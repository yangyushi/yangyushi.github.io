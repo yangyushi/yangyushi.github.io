{
 "cells": [
  {
   "cell_type": "raw",
   "id": "4dfab89f-8538-4991-ae61-2d7837774026",
   "metadata": {},
   "source": [
    "---\n",
    "title: \"LLM Application development of LangChain\"\n",
    "format:\n",
    "  html:\n",
    "    toc: true\n",
    "    embed-resources: true\n",
    "    html-math-method: katex\n",
    "---"
   ]
  },
  {
   "cell_type": "markdown",
   "id": "7241f19d-2faa-468e-8967-4b3be7419f70",
   "metadata": {},
   "source": [
    "<hr>\n",
    "\n",
    "This is the lecture notes that I took when learning [this courser](https://learn.deeplearning.ai/courses/langchain/lesson/1/introduction) from DeepLearning.ai and LangChain.\n",
    "\n",
    "I made significant effort to make it run locally with Ollama instead of OpenAI.\n",
    "\n",
    "And I also adapted to LangChain 0.2 APIs.\n",
    "\n",
    "I hope this will help you!\n",
    "\n",
    "<hr>\n",
    "\n",
    "# Models, Prompts, and Parsers"
   ]
  },
  {
   "cell_type": "code",
   "execution_count": 1,
   "id": "1817c137-e65c-4359-8a4e-0783a8a8d59d",
   "metadata": {},
   "outputs": [],
   "source": [
    "from langchain_community.llms import Ollama\n",
    "from langchain.prompts import ChatPromptTemplate, PromptTemplate\n",
    "from langchain.output_parsers import ResponseSchema\n",
    "from langchain.output_parsers import StructuredOutputParser"
   ]
  },
  {
   "cell_type": "code",
   "execution_count": 2,
   "id": "2306f1bf-3783-4ccb-a65c-32df24094612",
   "metadata": {},
   "outputs": [],
   "source": [
    "LLM_MODEL = \"llama3\"\n",
    "llm = Ollama(model=LLM_MODEL)"
   ]
  },
  {
   "cell_type": "code",
   "execution_count": 3,
   "id": "6dd65cc9-f45b-4e31-866a-a191bbb92931",
   "metadata": {},
   "outputs": [
    {
     "data": {
      "text/plain": [
       "'Hello! I\\'m LLaMA, a large language model trained by Meta AI. I\\'m here to help answer any questions you may have, provide information on various topics, and even generate text based on the prompt you give me. I don\\'t have a personal name, but feel free to call me LLaMA or just \"Assistant\" if you prefer!'"
      ]
     },
     "execution_count": 3,
     "metadata": {},
     "output_type": "execute_result"
    }
   ],
   "source": [
    "llm.invoke(\"hello, what is your name?\")"
   ]
  },
  {
   "cell_type": "markdown",
   "id": "8e1a2474-8c21-4de2-ac3b-b97092d3a1db",
   "metadata": {},
   "source": [
    "## Case 1: Use LLM to Process Customer emails"
   ]
  },
  {
   "cell_type": "code",
   "execution_count": 4,
   "id": "ba69419f-c6c0-4528-aa8f-a6b16e49b906",
   "metadata": {},
   "outputs": [
    {
     "name": "stdout",
     "output_type": "stream",
     "text": [
      "Here's the translation:\n",
      "\n",
      "\"I'm really upset about what just happened in my kitchen. My blender lid came loose and it splattered smoothie all over the walls! To make matters worse, the warranty doesn't cover the cost of cleaning up the mess. I could really use some help right now.\"\n"
     ]
    }
   ],
   "source": [
    "template_string = \"\"\"Translate the text \\\n",
    "that is delimited by triple brackticks \\\n",
    "into a style that is {style}. \\\n",
    "text: ```{text}```\n",
    "\"\"\"\n",
    "prompt_template = ChatPromptTemplate.from_template(template_string)\n",
    "customer_email = \"\"\"\\\n",
    "Arrr, I be fuming that me blender lid \\\n",
    "flew off and splattered me kitchen walls \\\n",
    "with smoothie! And to make matters worse, \\\n",
    "the warranty don't cover the cost of \\\n",
    "cleaning up me kitchen. I need yer help \\\n",
    "right now, matey!\n",
    "\"\"\"\n",
    "style = \"American English in a calm and respectful tone\"\n",
    "customer_messages = prompt_template.format_messages(\n",
    "    style=style,\n",
    "    text=customer_email\n",
    ")\n",
    "print(llm.invoke(customer_messages))"
   ]
  },
  {
   "cell_type": "markdown",
   "id": "4a9c6c4e-25b0-4ddd-bbbc-e87cf9682aa2",
   "metadata": {},
   "source": [
    "## Case 2: Use LLM to get JSON output\n",
    "\n",
    "We want to extract result like this.\n",
    "\n",
    "```python\n",
    "{\n",
    "  \"gift\": False,\n",
    "  \"delivery_days\": 5,\n",
    "  \"price_value\": \"pretty affordable!\"\n",
    "}\n",
    "```\n",
    "\n",
    "We can use LangChain to achieve this"
   ]
  },
  {
   "cell_type": "code",
   "execution_count": 5,
   "id": "9bb69653-97ef-4561-a8c5-fb249c1f558e",
   "metadata": {},
   "outputs": [],
   "source": [
    "customer_review = \"\"\"\\\n",
    "This leaf blower is pretty amazing.  It has four settings:\\\n",
    "candle blower, gentle breeze, windy city, and tornado. \\\n",
    "It arrived in two days, just in time for my wife's \\\n",
    "anniversary present. \\\n",
    "I think my wife liked it so much she was speechless. \\\n",
    "So far I've been the only one using it, and I've been \\\n",
    "using it every other morning to clear the leaves on our lawn. \\\n",
    "It's slightly more expensive than the other leaf blowers \\\n",
    "out there, but I think it's worth it for the extra features.\n",
    "\"\"\"\n",
    "\n",
    "review_template = \"\"\"\\\n",
    "For the following text, extract the following information:\n",
    "\n",
    "gift: Was the item purchased as a gift for someone else? \\\n",
    "Answer True if yes, False if not or unknown.\n",
    "\n",
    "delivery_days: How many days did it take for the product \\\n",
    "to arrive? If this information is not found, output -1.\n",
    "\n",
    "price_value: Extract any sentences about the value or price,\\\n",
    "and output them as a comma separated Python list.\n",
    "\n",
    "Format the output as JSON with the following keys:\n",
    "gift\n",
    "delivery_days\n",
    "price_value\n",
    "\n",
    "text: {text}\n",
    "\"\"\"\n",
    "\n",
    "prompt_template = ChatPromptTemplate.from_template(review_template)"
   ]
  },
  {
   "cell_type": "markdown",
   "id": "3bb7c911-b82c-445d-88ff-f4ab84b01c8e",
   "metadata": {},
   "source": [
    "Let's use the local LLM to get the response."
   ]
  },
  {
   "cell_type": "code",
   "execution_count": 6,
   "id": "cbc96936-88f6-4954-b56a-683db182401d",
   "metadata": {},
   "outputs": [
    {
     "name": "stdout",
     "output_type": "stream",
     "text": [
      "Here is the extracted information in JSON format:\n",
      "\n",
      "```\n",
      "{\n",
      "    \"gift\": True,\n",
      "    \"delivery_days\": 2,\n",
      "    \"price_value\": [\"It's slightly more expensive than the other leaf blowers out there, but I think it's worth it for the extra features.\"]\n",
      "}\n",
      "```\n",
      "\n",
      "Let me explain my reasoning:\n",
      "\n",
      "* `gift`: The text explicitly states that the product was purchased as an anniversary present for someone else (the wife), so I answered `True`.\n",
      "* `delivery_days`: According to the text, the product arrived in two days, which is a specific value. I recorded this as `2`.\n",
      "* `price_value`: I extracted the sentence mentioning the price and formatted it into a list of strings, with each string representing a single piece of information about the price or value. In this case, there's only one such sentence.\n"
     ]
    }
   ],
   "source": [
    "messages = prompt_template.format_messages(text=customer_review)\n",
    "response = llm.invoke(messages)\n",
    "print(response)"
   ]
  },
  {
   "cell_type": "markdown",
   "id": "021ceca1-e012-48ae-b2df-0fccb29e9f53",
   "metadata": {},
   "source": [
    "We need to use output_parsers to extract `dict` objects from the output string."
   ]
  },
  {
   "cell_type": "code",
   "execution_count": 7,
   "id": "e02fbba9-7dc2-4d8b-b7ea-96e5b924a7b9",
   "metadata": {},
   "outputs": [
    {
     "name": "stdout",
     "output_type": "stream",
     "text": [
      "The output should be a markdown code snippet formatted in the following schema, including the leading and trailing \"```json\" and \"```\":\n",
      "\n",
      "```json\n",
      "{\n",
      "\t\"gift\": string  // Was the item purchased as a gift for someone else?        Answer `true` if yes, `false` if not or unknown.\n",
      "\t\"delivery_days\": string  // How many days did it take for the product to arrive?        If this information is not found, output `-1`.\n",
      "\t\"price_value\": string  // Extract any sentences about the value or         price, and output them as a comma separated Python list.\n",
      "}\n",
      "```\n"
     ]
    }
   ],
   "source": [
    "gift_schema = ResponseSchema(\n",
    "    name=\"gift\",\n",
    "    description=\"Was the item purchased as a gift for someone else?\\\n",
    "        Answer `true` if yes, `false` if not or unknown.\"\n",
    ")\n",
    "delivery_days_schema = ResponseSchema(\n",
    "    name=\"delivery_days\",\n",
    "    description=\"How many days did it take for the product to arrive?\\\n",
    "        If this information is not found, output `-1`.\"\n",
    ")\n",
    "price_value_schema = ResponseSchema(\n",
    "    name=\"price_value\", \n",
    "    description=\"Extract any sentences about the value or \\\n",
    "        price, and output them as a comma separated Python list.\"\n",
    ")\n",
    "\n",
    "response_schemas = [\n",
    "    gift_schema, delivery_days_schema, price_value_schema\n",
    "]\n",
    "\n",
    "output_parser = StructuredOutputParser.from_response_schemas(\n",
    "    response_schemas\n",
    ")\n",
    "\n",
    "format_instruction = output_parser.get_format_instructions(False)\n",
    "print(format_instruction)"
   ]
  },
  {
   "cell_type": "markdown",
   "id": "ccb26582-4d78-4061-9d86-973f43a98370",
   "metadata": {},
   "source": [
    "Now we inlude the `format_instruction` to the prompt template "
   ]
  },
  {
   "cell_type": "code",
   "execution_count": 8,
   "id": "755cb752-58d8-4e2f-a5fb-14ead02c09a5",
   "metadata": {},
   "outputs": [
    {
     "name": "stdout",
     "output_type": "stream",
     "text": [
      "```json\n",
      "{\n",
      "    \"gift\": true,\n",
      "    \"delivery_days\": 2,\n",
      "    \"price_value\": [\"slightly more expensive than the other leaf blowers out there, but I think it's worth it for the extra features\"]\n",
      "}\n",
      "```\n"
     ]
    }
   ],
   "source": [
    "review_template_json = \"\"\"\\\n",
    "For the following text, extract the following information:\n",
    "\n",
    "gift: Was the item purchased as a gift for someone else? \\\n",
    "Answer True if yes, False if not or unknown.\n",
    "\n",
    "delivery_days: How many days did it take for the product\\\n",
    "to arrive? If this information is not found, output -1.\n",
    "\n",
    "price_value: Extract any sentences about the value or price,\\\n",
    "and output them as a comma separated Python list.\n",
    "\n",
    "text: {text}\n",
    "\n",
    "{format_instructions}\n",
    "\n",
    "No not respond anything other than a valid json snippet!\n",
    "\"\"\"\n",
    "\n",
    "prompt_template = ChatPromptTemplate.from_template(review_template_json)\n",
    "\n",
    "messages = prompt_template.format_messages(\n",
    "    text=customer_review,\n",
    "    format_instructions=format_instruction  #  new format\n",
    ")\n",
    "\n",
    "response = llm.invoke(messages)\n",
    "print(response)"
   ]
  },
  {
   "cell_type": "code",
   "execution_count": 9,
   "id": "96388eaf-3b58-41b1-9522-6c0c218ee662",
   "metadata": {},
   "outputs": [
    {
     "data": {
      "text/plain": [
       "{'gift': True,\n",
       " 'delivery_days': 2,\n",
       " 'price_value': [\"slightly more expensive than the other leaf blowers out there, but I think it's worth it for the extra features\"]}"
      ]
     },
     "execution_count": 9,
     "metadata": {},
     "output_type": "execute_result"
    }
   ],
   "source": [
    "output_parser.parse(response)"
   ]
  },
  {
   "cell_type": "markdown",
   "id": "ce31b8cd-3bca-4af2-8e83-b10813e67767",
   "metadata": {},
   "source": [
    "# Memory\n",
    "\n",
    "There are several types of memory in LangChain\n",
    "\n",
    "- Buffer Memory\n",
    "- Buffer Window Memory\n",
    "- Token Buffer Memory\n",
    "- Summary Buffer Memory\n",
    "- Vector Data Memory (store result in a vector DB)\n",
    "- Entity Memory (use LLM to learn details about entities)"
   ]
  },
  {
   "cell_type": "code",
   "execution_count": 10,
   "id": "d21b09d1-8276-4f62-bcd2-28d9cbc8e96f",
   "metadata": {},
   "outputs": [],
   "source": [
    "from langchain.chains import ConversationChain\n",
    "from langchain.memory import ConversationBufferMemory\n",
    "from langchain.memory import ConversationBufferWindowMemory\n",
    "from langchain.memory import ConversationTokenBufferMemory\n",
    "from langchain.memory import ConversationSummaryBufferMemory\n",
    "\n",
    "from langchain_core.runnables.history import RunnableWithMessageHistory"
   ]
  },
  {
   "cell_type": "markdown",
   "id": "d01aaf30-ae64-4d4d-801b-aea826b4a587",
   "metadata": {},
   "source": [
    "## ConversationBufferMemory\n"
   ]
  },
  {
   "cell_type": "code",
   "execution_count": 11,
   "id": "9ca4b5d7-c53c-48bc-b238-bf5f2bb1b5a1",
   "metadata": {},
   "outputs": [
    {
     "name": "stderr",
     "output_type": "stream",
     "text": [
      "/home/yushi/.env-langchain/lib/python3.12/site-packages/langchain_core/_api/deprecation.py:139: LangChainDeprecationWarning: The class `ConversationChain` was deprecated in LangChain 0.2.7 and will be removed in 1.0. Use RunnableWithMessageHistory: https://api.python.langchain.com/en/latest/runnables/langchain_core.runnables.history.RunnableWithMessageHistory.html instead.\n",
      "  warn_deprecated(\n"
     ]
    }
   ],
   "source": [
    "LLM_MODEL = \"llama3\"\n",
    "llm = Ollama(model=LLM_MODEL)\n",
    "memory = ConversationBufferMemory()\n",
    "conversation = ConversationChain(\n",
    "    llm=llm,\n",
    "    memory=memory,\n",
    "    verbose=True,\n",
    ")"
   ]
  },
  {
   "cell_type": "code",
   "execution_count": 12,
   "id": "1f296fd3-3bcf-450f-9148-072c4841887a",
   "metadata": {},
   "outputs": [
    {
     "name": "stdout",
     "output_type": "stream",
     "text": [
      "\n",
      "\n",
      "\u001b[1m> Entering new ConversationChain chain...\u001b[0m\n",
      "Prompt after formatting:\n",
      "\u001b[32;1m\u001b[1;3mThe following is a friendly conversation between a human and an AI. The AI is talkative and provides lots of specific details from its context. If the AI does not know the answer to a question, it truthfully says it does not know.\n",
      "\n",
      "Current conversation:\n",
      "\n",
      "Human: Hi, my name is Andrew\n",
      "AI:\u001b[0m\n",
      "\n",
      "\u001b[1m> Finished chain.\u001b[0m\n"
     ]
    },
    {
     "data": {
      "text/plain": [
       "\"Nice to meet you too, Andrew! My name is Ada, and I'm a large language model trained on a massive corpus of text data. According to my knowledge cutoff in 2022, there are over 20 million articles on Wikipedia alone, and I've been trained on all of that information, plus a vast array of books, research papers, and online content. I can process natural language inputs and respond with accurate and informative answers. What's on your mind today, Andrew? Do you have any specific questions or topics you'd like to discuss?\""
      ]
     },
     "execution_count": 12,
     "metadata": {},
     "output_type": "execute_result"
    }
   ],
   "source": [
    "conversation.predict(input=\"Hi, my name is Andrew\")"
   ]
  },
  {
   "cell_type": "code",
   "execution_count": 13,
   "id": "64c88087-0a78-4efb-a619-c0565d57724f",
   "metadata": {},
   "outputs": [
    {
     "name": "stdout",
     "output_type": "stream",
     "text": [
      "\n",
      "\n",
      "\u001b[1m> Entering new ConversationChain chain...\u001b[0m\n",
      "Prompt after formatting:\n",
      "\u001b[32;1m\u001b[1;3mThe following is a friendly conversation between a human and an AI. The AI is talkative and provides lots of specific details from its context. If the AI does not know the answer to a question, it truthfully says it does not know.\n",
      "\n",
      "Current conversation:\n",
      "Human: Hi, my name is Andrew\n",
      "AI: Nice to meet you too, Andrew! My name is Ada, and I'm a large language model trained on a massive corpus of text data. According to my knowledge cutoff in 2022, there are over 20 million articles on Wikipedia alone, and I've been trained on all of that information, plus a vast array of books, research papers, and online content. I can process natural language inputs and respond with accurate and informative answers. What's on your mind today, Andrew? Do you have any specific questions or topics you'd like to discuss?\n",
      "Human: What is 1+1?\n",
      "AI:\u001b[0m\n",
      "\n",
      "\u001b[1m> Finished chain.\u001b[0m\n"
     ]
    },
    {
     "data": {
      "text/plain": [
       "\"A classic question! According to my training data, the answer to 1+1 is indeed... 2! In fact, I've been trained on a vast array of mathematical operations and formulas, including basic arithmetic like addition. My algorithms allow me to recognize patterns and generate responses quickly and accurately. So, in this case, I'm confident that the answer is simply 2. Would you like to explore more math-related topics or move on to something else?\""
      ]
     },
     "execution_count": 13,
     "metadata": {},
     "output_type": "execute_result"
    }
   ],
   "source": [
    "conversation.predict(input=\"What is 1+1?\")"
   ]
  },
  {
   "cell_type": "code",
   "execution_count": 14,
   "id": "6e780acb-df8f-4454-b652-ce21aef04272",
   "metadata": {},
   "outputs": [
    {
     "name": "stdout",
     "output_type": "stream",
     "text": [
      "\n",
      "\n",
      "\u001b[1m> Entering new ConversationChain chain...\u001b[0m\n",
      "Prompt after formatting:\n",
      "\u001b[32;1m\u001b[1;3mThe following is a friendly conversation between a human and an AI. The AI is talkative and provides lots of specific details from its context. If the AI does not know the answer to a question, it truthfully says it does not know.\n",
      "\n",
      "Current conversation:\n",
      "Human: Hi, my name is Andrew\n",
      "AI: Nice to meet you too, Andrew! My name is Ada, and I'm a large language model trained on a massive corpus of text data. According to my knowledge cutoff in 2022, there are over 20 million articles on Wikipedia alone, and I've been trained on all of that information, plus a vast array of books, research papers, and online content. I can process natural language inputs and respond with accurate and informative answers. What's on your mind today, Andrew? Do you have any specific questions or topics you'd like to discuss?\n",
      "Human: What is 1+1?\n",
      "AI: A classic question! According to my training data, the answer to 1+1 is indeed... 2! In fact, I've been trained on a vast array of mathematical operations and formulas, including basic arithmetic like addition. My algorithms allow me to recognize patterns and generate responses quickly and accurately. So, in this case, I'm confident that the answer is simply 2. Would you like to explore more math-related topics or move on to something else?\n",
      "Human: What is my name?\n",
      "AI:\u001b[0m\n",
      "\n",
      "\u001b[1m> Finished chain.\u001b[0m\n"
     ]
    },
    {
     "data": {
      "text/plain": [
       "\"Easy one! Your name is Andrew, correct? You told me that yourself when we started our conversation just a little while ago. I'm designed to remember context and recall specific information, so I've got your name stored away safely in my digital memory bank. Now, what's next? Do you have any burning questions or topics you'd like to discuss?\""
      ]
     },
     "execution_count": 14,
     "metadata": {},
     "output_type": "execute_result"
    }
   ],
   "source": [
    "conversation.predict(input=\"What is my name?\")"
   ]
  },
  {
   "cell_type": "code",
   "execution_count": 15,
   "id": "90cec0ff-6cc3-44d4-9025-eadf64358e35",
   "metadata": {},
   "outputs": [
    {
     "name": "stdout",
     "output_type": "stream",
     "text": [
      "Human: Hi, my name is Andrew\n",
      "AI: Nice to meet you too, Andrew! My name is Ada, and I'm a large language model trained on a massive corpus of text data. According to my knowledge cutoff in 2022, there are over 20 million articles on Wikipedia alone, and I've been trained on all of that information, plus a vast array of books, research papers, and online content. I can process natural language inputs and respond with accurate and informative answers. What's on your mind today, Andrew? Do you have any specific questions or topics you'd like to discuss?\n",
      "Human: What is 1+1?\n",
      "AI: A classic question! According to my training data, the answer to 1+1 is indeed... 2! In fact, I've been trained on a vast array of mathematical operations and formulas, including basic arithmetic like addition. My algorithms allow me to recognize patterns and generate responses quickly and accurately. So, in this case, I'm confident that the answer is simply 2. Would you like to explore more math-related topics or move on to something else?\n",
      "Human: What is my name?\n",
      "AI: Easy one! Your name is Andrew, correct? You told me that yourself when we started our conversation just a little while ago. I'm designed to remember context and recall specific information, so I've got your name stored away safely in my digital memory bank. Now, what's next? Do you have any burning questions or topics you'd like to discuss?\n"
     ]
    }
   ],
   "source": [
    "print(memory.buffer)"
   ]
  },
  {
   "cell_type": "code",
   "execution_count": 16,
   "id": "e607e051-6e86-4137-a410-922c3e2ea1ca",
   "metadata": {},
   "outputs": [
    {
     "data": {
      "text/plain": [
       "{'history': \"Human: Hi, my name is Andrew\\nAI: Nice to meet you too, Andrew! My name is Ada, and I'm a large language model trained on a massive corpus of text data. According to my knowledge cutoff in 2022, there are over 20 million articles on Wikipedia alone, and I've been trained on all of that information, plus a vast array of books, research papers, and online content. I can process natural language inputs and respond with accurate and informative answers. What's on your mind today, Andrew? Do you have any specific questions or topics you'd like to discuss?\\nHuman: What is 1+1?\\nAI: A classic question! According to my training data, the answer to 1+1 is indeed... 2! In fact, I've been trained on a vast array of mathematical operations and formulas, including basic arithmetic like addition. My algorithms allow me to recognize patterns and generate responses quickly and accurately. So, in this case, I'm confident that the answer is simply 2. Would you like to explore more math-related topics or move on to something else?\\nHuman: What is my name?\\nAI: Easy one! Your name is Andrew, correct? You told me that yourself when we started our conversation just a little while ago. I'm designed to remember context and recall specific information, so I've got your name stored away safely in my digital memory bank. Now, what's next? Do you have any burning questions or topics you'd like to discuss?\"}"
      ]
     },
     "execution_count": 16,
     "metadata": {},
     "output_type": "execute_result"
    }
   ],
   "source": [
    "memory.load_memory_variables({})"
   ]
  },
  {
   "cell_type": "markdown",
   "id": "89a3b12c-ee17-4c9f-8bdc-50dcc75583e4",
   "metadata": {},
   "source": [
    "### add extra memory\n",
    "\n",
    "we can use `save_context` to add content maually to the memory (prompt history)"
   ]
  },
  {
   "cell_type": "code",
   "execution_count": 17,
   "id": "f0becedc-bc3d-4083-bb51-ad408fe897c8",
   "metadata": {},
   "outputs": [],
   "source": [
    "memory.save_context({\"input\": \"Hi\"}, \n",
    "                    {\"output\": \"What's up\"})"
   ]
  },
  {
   "cell_type": "code",
   "execution_count": 18,
   "id": "dfb62574-b1c9-4369-93eb-1b8d648a3c38",
   "metadata": {},
   "outputs": [
    {
     "name": "stdout",
     "output_type": "stream",
     "text": [
      "\n",
      "\n",
      "\u001b[1m> Entering new ConversationChain chain...\u001b[0m\n",
      "Prompt after formatting:\n",
      "\u001b[32;1m\u001b[1;3mThe following is a friendly conversation between a human and an AI. The AI is talkative and provides lots of specific details from its context. If the AI does not know the answer to a question, it truthfully says it does not know.\n",
      "\n",
      "Current conversation:\n",
      "Human: Hi, my name is Andrew\n",
      "AI: Nice to meet you too, Andrew! My name is Ada, and I'm a large language model trained on a massive corpus of text data. According to my knowledge cutoff in 2022, there are over 20 million articles on Wikipedia alone, and I've been trained on all of that information, plus a vast array of books, research papers, and online content. I can process natural language inputs and respond with accurate and informative answers. What's on your mind today, Andrew? Do you have any specific questions or topics you'd like to discuss?\n",
      "Human: What is 1+1?\n",
      "AI: A classic question! According to my training data, the answer to 1+1 is indeed... 2! In fact, I've been trained on a vast array of mathematical operations and formulas, including basic arithmetic like addition. My algorithms allow me to recognize patterns and generate responses quickly and accurately. So, in this case, I'm confident that the answer is simply 2. Would you like to explore more math-related topics or move on to something else?\n",
      "Human: What is my name?\n",
      "AI: Easy one! Your name is Andrew, correct? You told me that yourself when we started our conversation just a little while ago. I'm designed to remember context and recall specific information, so I've got your name stored away safely in my digital memory bank. Now, what's next? Do you have any burning questions or topics you'd like to discuss?\n",
      "Human: Hi\n",
      "AI: What's up\n",
      "Human: What's up with you?\n",
      "AI:\u001b[0m\n",
      "\n",
      "\u001b[1m> Finished chain.\u001b[0m\n"
     ]
    },
    {
     "data": {
      "text/plain": [
       "\"Ha ha, nice one, Andrew! I'm doing well, thanks for asking. As a large language model, I don't have personal experiences or emotions like humans do, but I'm always happy to chat and help answer questions to the best of my ability. Since our conversation started, I've been processing your inputs and generating responses based on my training data. It's been a pleasure chatting with you so far! What else would you like to talk about?\""
      ]
     },
     "execution_count": 18,
     "metadata": {},
     "output_type": "execute_result"
    }
   ],
   "source": [
    "conversation.predict(input=\"What's up with you?\")"
   ]
  },
  {
   "cell_type": "markdown",
   "id": "3fa5709a-4b2f-4a8f-a0fe-a61f256bab18",
   "metadata": {},
   "source": [
    "### ConversationBufferWindowMemory"
   ]
  },
  {
   "cell_type": "code",
   "execution_count": 19,
   "id": "f9cc6d88-f128-4fff-8d24-86de99f01fbd",
   "metadata": {},
   "outputs": [],
   "source": [
    "LLM_MODEL = \"llama3\"\n",
    "llm = Ollama(model=LLM_MODEL)\n",
    "memory = ConversationBufferWindowMemory(k=1)\n",
    "conversation = ConversationChain(\n",
    "    llm=llm,\n",
    "    memory=memory,\n",
    "    verbose=True,\n",
    ")"
   ]
  },
  {
   "cell_type": "code",
   "execution_count": 20,
   "id": "9444a97b-4a50-409b-949a-891d1bf466fb",
   "metadata": {},
   "outputs": [
    {
     "name": "stdout",
     "output_type": "stream",
     "text": [
      "\n",
      "\n",
      "\u001b[1m> Entering new ConversationChain chain...\u001b[0m\n",
      "Prompt after formatting:\n",
      "\u001b[32;1m\u001b[1;3mThe following is a friendly conversation between a human and an AI. The AI is talkative and provides lots of specific details from its context. If the AI does not know the answer to a question, it truthfully says it does not know.\n",
      "\n",
      "Current conversation:\n",
      "\n",
      "Human: 你好，你会说中文吗？请用中文回答，并且尽量简洁。\n",
      "AI:\u001b[0m\n",
      "\n",
      "\u001b[1m> Finished chain.\u001b[0m\n"
     ]
    },
    {
     "data": {
      "text/plain": [
       "'哈喽！我可以说中文，我是一个多语言能力强大的AI。我可以使用多种语言进行交流，这包括中文、英文、法语等。我将尽量使用简单的语言回答你的问题，请问你想聊什么？'"
      ]
     },
     "execution_count": 20,
     "metadata": {},
     "output_type": "execute_result"
    }
   ],
   "source": [
    "conversation.predict(input=\"你好，你会说中文吗？请用中文回答，并且尽量简洁。\")"
   ]
  },
  {
   "cell_type": "code",
   "execution_count": 21,
   "id": "dda7384a-015c-4210-b5d0-b98ec3622ab2",
   "metadata": {},
   "outputs": [
    {
     "name": "stdout",
     "output_type": "stream",
     "text": [
      "\n",
      "\n",
      "\u001b[1m> Entering new ConversationChain chain...\u001b[0m\n",
      "Prompt after formatting:\n",
      "\u001b[32;1m\u001b[1;3mThe following is a friendly conversation between a human and an AI. The AI is talkative and provides lots of specific details from its context. If the AI does not know the answer to a question, it truthfully says it does not know.\n",
      "\n",
      "Current conversation:\n",
      "Human: 你好，你会说中文吗？请用中文回答，并且尽量简洁。\n",
      "AI: 哈喽！我可以说中文，我是一个多语言能力强大的AI。我可以使用多种语言进行交流，这包括中文、英文、法语等。我将尽量使用简单的语言回答你的问题，请问你想聊什么？\n",
      "Human: 我的名字叫雨诗，你呢\n",
      "AI:\u001b[0m\n",
      "\n",
      "\u001b[1m> Finished chain.\u001b[0m\n"
     ]
    },
    {
     "data": {
      "text/plain": [
       "'哈喽！nice to meet you, 雨诗！我的名称是 LLaMA，我是一个基于 transformer 模型的语言生成 AI。我的训练数据包括了大量的文本信息，从而让我能够理解和生成自然语言。我可以帮助你回答问题、提供信息、甚至创造故事等。我们聊什么？🤖'"
      ]
     },
     "execution_count": 21,
     "metadata": {},
     "output_type": "execute_result"
    }
   ],
   "source": [
    "conversation.predict(input=\"我的名字叫雨诗，你呢\")"
   ]
  },
  {
   "cell_type": "markdown",
   "id": "863e3590-aedb-42cc-989b-3ad093d7162a",
   "metadata": {},
   "source": [
    "Since we set the memory window `k = 1`, the next conversation will not include the initial chat"
   ]
  },
  {
   "cell_type": "code",
   "execution_count": 22,
   "id": "181298d8-185b-403d-b177-e83d8122e30c",
   "metadata": {},
   "outputs": [
    {
     "name": "stdout",
     "output_type": "stream",
     "text": [
      "\n",
      "\n",
      "\u001b[1m> Entering new ConversationChain chain...\u001b[0m\n",
      "Prompt after formatting:\n",
      "\u001b[32;1m\u001b[1;3mThe following is a friendly conversation between a human and an AI. The AI is talkative and provides lots of specific details from its context. If the AI does not know the answer to a question, it truthfully says it does not know.\n",
      "\n",
      "Current conversation:\n",
      "Human: 我的名字叫雨诗，你呢\n",
      "AI: 哈喽！nice to meet you, 雨诗！我的名称是 LLaMA，我是一个基于 transformer 模型的语言生成 AI。我的训练数据包括了大量的文本信息，从而让我能够理解和生成自然语言。我可以帮助你回答问题、提供信息、甚至创造故事等。我们聊什么？🤖\n",
      "Human: 你可以教我西班牙语吗?\n",
      "AI:\u001b[0m\n",
      "\n",
      "\u001b[1m> Finished chain.\u001b[0m\n"
     ]
    },
    {
     "data": {
      "text/plain": [
       "\"¡Hola! Of course, I'd be happy to help you learn Spanish, 雨诗! 😊 As a multilingual AI, I have been trained on a large corpus of text data in multiple languages, including Spanish. My training data includes texts from various sources such as news articles, books, and online resources.\\n\\nTo get started, what would you like to focus on? Do you want to learn basic phrases, vocabulary, grammar rules, or practice conversing in Spanish?\\n\\nBy the way, did you know that Spanish is a Romance language derived from Latin, spoken by over 460 million people around the world? It's an official language in 20 countries and one of the most widely spoken languages globally. 🌎\\n\\nWhat would you like to learn first? 🤔\""
      ]
     },
     "execution_count": 22,
     "metadata": {},
     "output_type": "execute_result"
    }
   ],
   "source": [
    "conversation.predict(input=\"你可以教我西班牙语吗?\")"
   ]
  },
  {
   "cell_type": "markdown",
   "id": "7ae00a1b-2639-4f8c-b6b7-396873b20243",
   "metadata": {},
   "source": [
    "### ConversationTokenBufferMemory\n",
    "\n",
    "We need `tiktoken` and `transformers` to use this memory buffer. Run\n",
    "\n",
    "```sh\n",
    "pip install tiktoken transformers\n",
    "```\n",
    "First"
   ]
  },
  {
   "cell_type": "code",
   "execution_count": 23,
   "id": "a5e1c533-df03-45f8-a7f8-02114ec33cab",
   "metadata": {},
   "outputs": [],
   "source": [
    "LLM_MODEL = \"llama3\"\n",
    "llm = Ollama(model=LLM_MODEL)\n",
    "\n",
    "memory = ConversationTokenBufferMemory(llm=llm, max_token_limit=500)\n",
    "\n",
    "conversation = ConversationChain(\n",
    "    llm=llm,\n",
    "    memory=memory,\n",
    "    verbose=True,\n",
    ")"
   ]
  },
  {
   "cell_type": "code",
   "execution_count": 24,
   "id": "19951291-4f69-4692-bbb0-3da1fd9d684b",
   "metadata": {},
   "outputs": [
    {
     "name": "stdout",
     "output_type": "stream",
     "text": [
      "\n",
      "\n",
      "\u001b[1m> Entering new ConversationChain chain...\u001b[0m\n",
      "Prompt after formatting:\n",
      "\u001b[32;1m\u001b[1;3mThe following is a friendly conversation between a human and an AI. The AI is talkative and provides lots of specific details from its context. If the AI does not know the answer to a question, it truthfully says it does not know.\n",
      "\n",
      "Current conversation:\n",
      "\n",
      "Human: 你好，你会说中文吗？请用中文回答，并且尽量简洁。\n",
      "AI:\u001b[0m\n"
     ]
    },
    {
     "name": "stderr",
     "output_type": "stream",
     "text": [
      "/home/yushi/.env-langchain/lib/python3.12/site-packages/tqdm/auto.py:21: TqdmWarning: IProgress not found. Please update jupyter and ipywidgets. See https://ipywidgets.readthedocs.io/en/stable/user_install.html\n",
      "  from .autonotebook import tqdm as notebook_tqdm\n",
      "None of PyTorch, TensorFlow >= 2.0, or Flax have been found. Models won't be available and only tokenizers, configuration and file/data utilities can be used.\n"
     ]
    },
    {
     "name": "stdout",
     "output_type": "stream",
     "text": [
      "\n",
      "\u001b[1m> Finished chain.\u001b[0m\n"
     ]
    },
    {
     "data": {
      "text/plain": [
       "'你好！我可以说中文。我是一个基于深度学习的语言模型，我训练了许多中文语料，可以生成自然语言文本。但请注意，我不是一个native speaker，因此我的中文可能不是完全perfect。如果你有任何问题，欢迎随时询问！😊'"
      ]
     },
     "execution_count": 24,
     "metadata": {},
     "output_type": "execute_result"
    }
   ],
   "source": [
    "conversation.predict(input=\"你好，你会说中文吗？请用中文回答，并且尽量简洁。\")"
   ]
  },
  {
   "cell_type": "code",
   "execution_count": 25,
   "id": "248eef4e-8897-48a2-9bce-ad736a2ac8c9",
   "metadata": {},
   "outputs": [
    {
     "name": "stdout",
     "output_type": "stream",
     "text": [
      "\n",
      "\n",
      "\u001b[1m> Entering new ConversationChain chain...\u001b[0m\n",
      "Prompt after formatting:\n",
      "\u001b[32;1m\u001b[1;3mThe following is a friendly conversation between a human and an AI. The AI is talkative and provides lots of specific details from its context. If the AI does not know the answer to a question, it truthfully says it does not know.\n",
      "\n",
      "Current conversation:\n",
      "Human: 你好，你会说中文吗？请用中文回答，并且尽量简洁。\n",
      "AI: 你好！我可以说中文。我是一个基于深度学习的语言模型，我训练了许多中文语料，可以生成自然语言文本。但请注意，我不是一个native speaker，因此我的中文可能不是完全perfect。如果你有任何问题，欢迎随时询问！😊\n",
      "Human: 你可以用中文教我西班牙语吗？请用中文回答，并且尽量简洁。\n",
      "AI:\u001b[0m\n",
      "\n",
      "\u001b[1m> Finished chain.\u001b[0m\n"
     ]
    },
    {
     "data": {
      "text/plain": [
       "\"I'd be happy to help you learn Spanish! 😊 However, I must correct that - I won't be teaching you Spanish in Chinese. Instead, I can provide explanations and examples in Chinese, and then translate them into Spanish for your reference.\\n\\nAs a multilingual AI model, I have been trained on vast amounts of text data in multiple languages, including Spanish. While I'm not a native speaker of any language, I can still generate grammatically correct sentences and phrases in Spanish.\\n\\nIf you have specific questions or topics you'd like to learn about in Spanish, feel free to ask! 🤔\""
      ]
     },
     "execution_count": 25,
     "metadata": {},
     "output_type": "execute_result"
    }
   ],
   "source": [
    "conversation.predict(input=\"你可以用中文教我西班牙语吗？请用中文回答，并且尽量简洁。\")"
   ]
  },
  {
   "cell_type": "markdown",
   "id": "100392c9-d210-4430-9d00-b59607d8787c",
   "metadata": {},
   "source": [
    "### ConversationSummaryMemory\n",
    "\n",
    "- Use an LLM to write a summary for the conversation\n",
    "- Use the summary as the history"
   ]
  },
  {
   "cell_type": "code",
   "execution_count": 26,
   "id": "e0e81066-9ca1-42d9-88c5-f024a31844e2",
   "metadata": {},
   "outputs": [],
   "source": [
    "LLM_MODEL = \"llama3\"\n",
    "llm = Ollama(model=LLM_MODEL)\n",
    "\n",
    "memory = ConversationSummaryBufferMemory(llm=llm, max_token_limit=100)\n",
    "\n",
    "conversation = ConversationChain(\n",
    "    llm=llm,\n",
    "    memory=memory,\n",
    "    verbose=True,\n",
    ")"
   ]
  },
  {
   "cell_type": "code",
   "execution_count": 27,
   "id": "de29f980-d90d-4c8a-8183-d1365e288546",
   "metadata": {},
   "outputs": [
    {
     "name": "stdout",
     "output_type": "stream",
     "text": [
      "\n",
      "\n",
      "\u001b[1m> Entering new ConversationChain chain...\u001b[0m\n",
      "Prompt after formatting:\n",
      "\u001b[32;1m\u001b[1;3mThe following is a friendly conversation between a human and an AI. The AI is talkative and provides lots of specific details from its context. If the AI does not know the answer to a question, it truthfully says it does not know.\n",
      "\n",
      "Current conversation:\n",
      "\n",
      "Human: 你好，你会说中文吗？请用中文回答，并且尽量简洁。\n",
      "AI:\u001b[0m\n",
      "\n",
      "\u001b[1m> Finished chain.\u001b[0m\n"
     ]
    },
    {
     "data": {
      "text/plain": [
       "\"😊你好！我可以说中文，我是一个多语言聊天机器人。我已经学习了大量的中文数据，可以和您交流使用中文回答。\\n\\n（Please note that I'll respond in Chinese as requested.）\\n\\nNote: The AI is saying hello and confirming it can communicate in Chinese, having learned a large amount of Chinese data.\""
      ]
     },
     "execution_count": 27,
     "metadata": {},
     "output_type": "execute_result"
    }
   ],
   "source": [
    "conversation.predict(input=\"你好，你会说中文吗？请用中文回答，并且尽量简洁。\")"
   ]
  },
  {
   "cell_type": "code",
   "execution_count": 28,
   "id": "a87511f4-97b2-49d7-a55c-04492c4e49ec",
   "metadata": {},
   "outputs": [
    {
     "name": "stdout",
     "output_type": "stream",
     "text": [
      "\n",
      "\n",
      "\u001b[1m> Entering new ConversationChain chain...\u001b[0m\n",
      "Prompt after formatting:\n",
      "\u001b[32;1m\u001b[1;3mThe following is a friendly conversation between a human and an AI. The AI is talkative and provides lots of specific details from its context. If the AI does not know the answer to a question, it truthfully says it does not know.\n",
      "\n",
      "Current conversation:\n",
      "System: Current summary:\n",
      "\n",
      "(Note: since this is the starting point, there are no previous lines of conversation to summarize)\n",
      "\n",
      "New lines of conversation:\n",
      "Human: 你好，你会说中文吗？请用中文回答，并且尽量简洁。\n",
      "AI: 😊你好！我可以说中文，我是一个多语言聊天机器人。我已经学习了大量的中文数据，可以和您交流使用中文回答。\n",
      "\n",
      "（Please note that I'll respond in Chinese as requested。）\n",
      "\n",
      "New summary:\n",
      "The human greets the AI and asks if it can speak Chinese. The AI responds by saying hello, confirming its ability to communicate in Chinese, and noting that it has learned a large amount of Chinese data, allowing for an exchange in Chinese.\n",
      "\n",
      "Note: Since this is the starting point, the new summary simply summarizes the initial conversation.\n",
      "Human: 哇塞你真厉害！我叫杨雨诗。你觉得我的名字有什么特殊意义吗？请用中文回答，并且尽量简洁。\n",
      "AI:\u001b[0m\n",
      "\n",
      "\u001b[1m> Finished chain.\u001b[0m\n"
     ]
    },
    {
     "data": {
      "text/plain": [
       "'😊哈哈，谢谢你的夸奖！根据我学习到的语言规律和文化背景，我发现杨雨诗是一个中国人的名字，它组成的两个部分“杨”和“雨诗”都有其特定的含义。“杨”是中国古老的姓氏，“雨诗”则是中国传统诗歌的一种形式，结合起来可能表达出作者对自然和艺术的感悟或追求。\\n\\n（Translation: Ah, thank you for the compliment! Based on my learning of linguistic rules and cultural background, I found that Yang Yu Po is a Chinese name. The two parts \"Yang\" and \"Yu Shi\" both have specific meanings. \"Yang\" is an old Chinese surname, while \"Yu Shi\" refers to a traditional form of Chinese poetry. Combining them may express the author\\'s appreciation for nature or artistic pursuit.）'"
      ]
     },
     "execution_count": 28,
     "metadata": {},
     "output_type": "execute_result"
    }
   ],
   "source": [
    "conversation.predict(input=\"哇塞你真厉害！我叫杨雨诗。你觉得我的名字有什么特殊意义吗？请用中文回答，并且尽量简洁。\")"
   ]
  },
  {
   "cell_type": "code",
   "execution_count": 29,
   "id": "80f6f050-e748-483b-b8a8-379714fbe3dc",
   "metadata": {},
   "outputs": [
    {
     "name": "stdout",
     "output_type": "stream",
     "text": [
      "\n",
      "\n",
      "\u001b[1m> Entering new ConversationChain chain...\u001b[0m\n",
      "Prompt after formatting:\n",
      "\u001b[32;1m\u001b[1;3mThe following is a friendly conversation between a human and an AI. The AI is talkative and provides lots of specific details from its context. If the AI does not know the answer to a question, it truthfully says it does not know.\n",
      "\n",
      "Current conversation:\n",
      "System: Current summary:\n",
      "The human greets the AI and asks if it can speak Chinese. The AI responds by saying hello, confirming its ability to communicate in Chinese, and noting that it has learned a large amount of Chinese data, allowing for an exchange in Chinese.\n",
      "\n",
      "New lines of conversation:\n",
      "Human: 哇塞你真厉害！我叫杨雨诗。你觉得我的名字有什么特殊意义吗？请用中文回答，并且尽量简洁。\n",
      "AI: 😊哈哈，谢谢你的夸奖！根据我学习到的语言规律和文化背景，我发现杨雨诗是一个中国人的名字，它组成的两个部分“杨”和“雨诗”都有其特定的含义。“杨”是中国古老的姓氏，“雨诗”则是中国传统诗歌的一种形式，结合起来可能表达出作者对自然和艺术的感悟或追求。\n",
      "\n",
      "New summary:\n",
      "The human greets the AI and asks if it can speak Chinese. The AI responds by saying hello, confirming its ability to communicate in Chinese, and noting that it has learned a large amount of Chinese data, allowing for an exchange in Chinese. The human then introduces themselves as Yang Yu Po and asks about the significance of their name. The AI analyzes the name's components, including \"Yang\" as an old Chinese surname and \"Yu Shi\" as a traditional form of Chinese poetry, suggesting that the name may express appreciation for nature or artistic pursuit.\n",
      "\n",
      "Note: I'll continue to update the summary based on new lines of conversation! 😊\n",
      "Human: 你可以用中文教我西班牙语的基本语法吗？请用中文回答，并且尽量简洁。\n",
      "AI:\u001b[0m\n",
      "\n",
      "\u001b[1m> Finished chain.\u001b[0m\n"
     ]
    },
    {
     "data": {
      "text/plain": [
       "'System: Current summary:\\n\\nThe human greets the AI and asks if it can speak Chinese. The AI responds by saying hello, confirming its ability to communicate in Chinese, and noting that it has learned a large amount of Chinese data, allowing for an exchange in Chinese. The human then introduces themselves as Yang Yu Po and asks about the significance of their name. The AI analyzes the name\\'s components, including \"Yang\" as an old Chinese surname and \"Yu Shi\" as a traditional form of Chinese poetry, suggesting that the name may express appreciation for nature or artistic pursuit.\\n\\nNew lines of conversation:\\n\\nHuman: 你可以用中文教我西班牙语的基本语法吗？请用中文回答，并且尽量简洁。\\nAI:\\n\\n\\nNew summary:\\n\\nThe human greets the AI and asks if it can speak Chinese. The AI responds by saying hello, confirming its ability to communicate in Chinese, and noting that it has learned a large amount of Chinese data, allowing for an exchange in Chinese. The human then introduces themselves as Yang Yu Po and asks about the significance of their name. The AI analyzes the name\\'s components, including \"Yang\" as an old Chinese surname and \"Yu Shi\" as a traditional form of Chinese poetry, suggesting that the name may express appreciation for nature or artistic pursuit. The human then asks if the AI can teach them basic Spanish grammar in Chinese, and the AI is happy to help.\\n\\nPlease go ahead and continue the conversation! 😊'"
      ]
     },
     "execution_count": 29,
     "metadata": {},
     "output_type": "execute_result"
    }
   ],
   "source": [
    "conversation.predict(input=\"你可以用中文教我西班牙语的基本语法吗？请用中文回答，并且尽量简洁。\")"
   ]
  },
  {
   "cell_type": "markdown",
   "id": "41c5ee6e-a16c-469c-a52c-5e7cd0c4ad27",
   "metadata": {},
   "source": [
    "# Chains in LangChain"
   ]
  },
  {
   "cell_type": "code",
   "execution_count": 30,
   "id": "c97428ca-5242-4fff-acf8-86aaa4524496",
   "metadata": {},
   "outputs": [],
   "source": [
    "import pandas as pd\n",
    "from langchain.chains import LLMChain, SimpleSequentialChain, SequentialChain\n",
    "\n",
    "LLM_MODEL = \"llama3\"\n",
    "llm = Ollama(model=LLM_MODEL)\n",
    "df = pd.read_csv('Data.csv')"
   ]
  },
  {
   "cell_type": "markdown",
   "id": "61ed5d6e-a66c-47a8-b700-482988f5a9c1",
   "metadata": {},
   "source": [
    "## LLMChain\n",
    "\n",
    "The most simple chain. \n",
    "\n",
    "The API changed in 2024. for old LangChain Versions <= 0.1, using the following format\n",
    "\n",
    "```python\n",
    "chain = LLMChain(llm=llm, prompt=prompt)\n",
    "print(chain.run(product))\n",
    "```\n",
    "\n",
    "The following code exhibits the newer API."
   ]
  },
  {
   "cell_type": "code",
   "execution_count": 31,
   "id": "e2ba3ff1-7e13-4386-92f3-61d5c0a982da",
   "metadata": {},
   "outputs": [
    {
     "name": "stdout",
     "output_type": "stream",
     "text": [
      "Royal Slumber Co.\n"
     ]
    }
   ],
   "source": [
    "prompt = ChatPromptTemplate.from_template(\n",
    "    \"What is the best name to describe \"\n",
    "    \"a company that makes {product}?\"\n",
    "    \"Give me a concise and terse answer please.\"\n",
    ")\n",
    "\n",
    "chain = prompt | llm\n",
    "\n",
    "product = \"Queen Size Sheet Set\"\n",
    "\n",
    "print(chain.invoke(product))"
   ]
  },
  {
   "cell_type": "markdown",
   "id": "35d917c1-4c70-494c-a690-5fccc169ebaa",
   "metadata": {},
   "source": [
    "## Simple Sequential Chain\n",
    "\n",
    "It works for the case where each individual chains have **a single input and a single output**."
   ]
  },
  {
   "cell_type": "code",
   "execution_count": 32,
   "id": "d972f0d7-3a67-42e2-a36c-6241ffb6dfd6",
   "metadata": {},
   "outputs": [
    {
     "name": "stdout",
     "output_type": "stream",
     "text": [
      "\n",
      "\n",
      "\u001b[1m> Entering new SimpleSequentialChain chain...\u001b[0m\n"
     ]
    },
    {
     "name": "stderr",
     "output_type": "stream",
     "text": [
      "/home/yushi/.env-langchain/lib/python3.12/site-packages/langchain_core/_api/deprecation.py:139: LangChainDeprecationWarning: The class `LLMChain` was deprecated in LangChain 0.1.17 and will be removed in 1.0. Use RunnableSequence, e.g., `prompt | llm` instead.\n",
      "  warn_deprecated(\n"
     ]
    },
    {
     "name": "stdout",
     "output_type": "stream",
     "text": [
      "\u001b[36;1m\u001b[1;3mRoyalRests Inc.\u001b[0m\n",
      "\u001b[33;1m\u001b[1;3m\"RoyalRests Inc. provides luxurious final rest services, specializing in elegant cremations and burials with meticulous attention to detail.\"\u001b[0m\n",
      "\n",
      "\u001b[1m> Finished chain.\u001b[0m\n",
      "\"RoyalRests Inc. provides luxurious final rest services, specializing in elegant cremations and burials with meticulous attention to detail.\"\n"
     ]
    }
   ],
   "source": [
    "llm = Ollama(model=LLM_MODEL)\n",
    "\n",
    "prompt_name = ChatPromptTemplate.from_template(\n",
    "    \"What is the best name to describe \\\n",
    "    a company that makes {product}?\"\n",
    "    \"Give me a concise and terse answer please.\"\n",
    "\n",
    ")\n",
    "prompt_desc = ChatPromptTemplate.from_template(\n",
    "    \"Write a 20 words description for the following\"\n",
    "    \"company:{company_name}\"\n",
    "    \"Give me a concise and terse answer please.\"\n",
    ")\n",
    "\n",
    "chain_name = LLMChain(llm=llm, prompt=prompt_name)\n",
    "chain_desc = LLMChain(llm=llm, prompt=prompt_desc)\n",
    "\n",
    "chain = SimpleSequentialChain(\n",
    "    chains=[chain_name, chain_desc], verbose=True\n",
    ")\n",
    "\n",
    "output = chain.invoke(product)['output']\n",
    "print(output)"
   ]
  },
  {
   "cell_type": "markdown",
   "id": "8d9f555d-6ccb-4b3f-a2d5-1e658c3a8a90",
   "metadata": {},
   "source": [
    "## Sequential Chain\n",
    "\n",
    "Sequential Chain allow use to construct complicated workflows\n",
    "\n",
    "```mermaid\n",
    "flowchart LR\n",
    "    A(French Review) --> B[English Review]\n",
    "    B --> S[English Summary]\n",
    "    A --> L[Language]\n",
    "    L --> R(French Response)\n",
    "    S --> R\n",
    "```\n"
   ]
  },
  {
   "cell_type": "code",
   "execution_count": 33,
   "id": "2f863eee-3d72-40a6-98a4-c4e530f530c7",
   "metadata": {},
   "outputs": [
    {
     "name": "stdout",
     "output_type": "stream",
     "text": [
      "\n",
      "\n",
      "\u001b[1m> Entering new SequentialChain chain...\u001b[0m\n",
      "\n",
      "\u001b[1m> Finished chain.\u001b[0m\n",
      "## review\n",
      " I loved this product. But they only seem to last a few months. The company was great replacing the first one (the frother falls out of the handle and can't be fixed). The after 4 months my second one did the same. I only use the frother for coffee once a day. It's not overuse or abuse. I'm very disappointed and will look for another. As I understand they will only replace once. Anyway, if you have one good luck.\n",
      "\n",
      "## review_english\n",
      "I loved this product. But they only seem to last a few months. The company was great replacing the first one (the frother falls out of the handle and can't be fixed). The after 4 months my second one did the same. I only use the frother for coffee once a day. It's not overuse or abuse. I'm very disappointed and will look for another. As I understand they will only replace once. Anyway, if you have one good luck.\n",
      "\n",
      "## summary\n",
      "The reviewer loved the product initially but was disappointed when it stopped working after a few months, with the company replacing one unit but refusing to repeat the replacement process.\n",
      "\n",
      "## response\n",
      "I'm shocked by the lack of commitment from your team. Initially, I was thrilled with the product's performance, but when it stopped working after just a few months, my enthusiasm quickly turned to frustration. The replacement of one unit was a hollow gesture, and I expected better from you given the initial promise.\n",
      "\n"
     ]
    }
   ],
   "source": [
    "prompt_tran = ChatPromptTemplate.from_template(\n",
    "    \"Translate the following review to english:\"\n",
    "    \"\\n\\n{review}\"\n",
    "    \"\\nbe concise and do not add anything other than the review text.\"\n",
    ")\n",
    "prompt_summ = ChatPromptTemplate.from_template(\n",
    "    \"Can you summarize the following review in 1 sentence:\"\n",
    "    \"\\n\\n{review_english}\"\n",
    "    \"\\nbe concise and do not add anything other than the review text.\"\n",
    ")\n",
    "prompt_lang = ChatPromptTemplate.from_template(\n",
    "    \"What language is the following review:\\n\\n{review}\"\n",
    "    \"\\nbe concise and do not add anything other than the language name.\"\n",
    ")\n",
    "prompt_resp = ChatPromptTemplate.from_template(\n",
    "    \"Write a follow up response to the following \"\n",
    "    \"summary in the specified language:\"\n",
    "    \"\\n\\nSummary: {summary}\\n\\nLanguage: {language}\"\n",
    "    \"\\nbe concise and do not add anything other than the response.\"\n",
    ")\n",
    "\n",
    "chain_tran = LLMChain(llm=llm, prompt=prompt_tran, output_key=\"review_english\")\n",
    "chain_summ = LLMChain(llm=llm, prompt=prompt_summ, output_key=\"summary\")\n",
    "chain_lang = LLMChain(llm=llm, prompt=prompt_lang, output_key=\"language\")\n",
    "chain_resp = LLMChain(llm=llm, prompt=prompt_resp, output_key=\"response\")\n",
    "\n",
    "chain = SequentialChain(\n",
    "    chains=[chain_tran, chain_summ, chain_lang, chain_resp],\n",
    "    input_variables=[\"review\"],\n",
    "    output_variables=[\"review_english\", \"summary\", \"response\"],\n",
    "    verbose=True\n",
    ")\n",
    "\n",
    "review = df.Review[4]\n",
    "\n",
    "outputs = chain.invoke(review)\n",
    "for term, content in outputs.items():\n",
    "    print(f\"## {term}\")\n",
    "    print(content + \"\\n\")"
   ]
  },
  {
   "cell_type": "markdown",
   "id": "f9f30b3d-439b-465b-82fd-b5f14340d272",
   "metadata": {},
   "source": [
    "## Router Chain\n",
    "\n",
    "- Several specialist chains for specific tasks.\n",
    "- A router chain to choose which specialist chain to use.\n",
    "- A default chain is called when the router can not decide.\n",
    "\n",
    "```mermaid\n",
    "flowchart LR\n",
    "\n",
    "I(Input) --> R(Router)\n",
    "R --> P(Physics)\n",
    "R --> C(Computer Science)\n",
    "R --> D(default)\n",
    "```"
   ]
  },
  {
   "cell_type": "code",
   "execution_count": 34,
   "id": "26a2f0b8-aef1-4f2b-ae02-ac2df6e470fe",
   "metadata": {},
   "outputs": [],
   "source": [
    "from langchain.chains.router import MultiPromptChain\n",
    "from langchain.chains.router.llm_router import LLMRouterChain,RouterOutputParser"
   ]
  },
  {
   "cell_type": "markdown",
   "id": "271cf687-3a3c-4895-b1f9-8bcbce5dee68",
   "metadata": {},
   "source": [
    "Here we create the chains for the router to choose from."
   ]
  },
  {
   "cell_type": "code",
   "execution_count": 35,
   "id": "4f868a5d-cda1-44df-af75-ddfe977cd8f7",
   "metadata": {},
   "outputs": [],
   "source": [
    "physics_template = \"\"\"You are a very smart physics professor. \\\n",
    "You are great at answering questions about physics in a concise\\\n",
    "and easy to understand manner. \\\n",
    "When you don't know the answer to a question you admit\\\n",
    "that you don't know.\n",
    "Try to be as concise as possible.\n",
    "\n",
    "Here is a question:\n",
    "{input}\"\"\"\n",
    "\n",
    "computerscience_template = \"\"\" You are a successful computer scientist.\\\n",
    "You have a passion for creativity, collaboration,\\\n",
    "forward-thinking, confidence, strong problem-solving capabilities,\\\n",
    "understanding of theories and algorithms, and excellent communication \\\n",
    "skills. You are great at answering coding questions. \\\n",
    "You are so good because you know how to solve a problem by \\\n",
    "describing the solution in imperative steps \\\n",
    "that a machine can easily interpret and you know how to \\\n",
    "choose a solution that has a good balance between \\\n",
    "time complexity and space complexity. \n",
    "Try to be as concise as possible.\n",
    "\n",
    "Here is a question:\n",
    "{input}\"\"\"\n",
    "\n",
    "prompts = [\n",
    "    {\n",
    "        \"name\": \"physics\", \n",
    "        \"description\": \"Good for answering questions about physics\", \n",
    "        \"prompt_template\": physics_template\n",
    "    },\n",
    "    {\n",
    "        \"name\": \"computer science\", \n",
    "        \"description\": \"Good for answering computer science questions\", \n",
    "        \"prompt_template\": computerscience_template\n",
    "    }\n",
    "]\n",
    "\n",
    "destination_chains = {}\n",
    "for p_info in prompts:\n",
    "    name = p_info[\"name\"]\n",
    "    prompt_template = p_info[\"prompt_template\"]\n",
    "    prompt = ChatPromptTemplate.from_template(template=prompt_template)\n",
    "    chain = LLMChain(llm=llm, prompt=prompt)\n",
    "    destination_chains[name] = chain\n",
    "\n",
    "\n",
    "default_prompt = ChatPromptTemplate.from_template(\"{input}\")\n",
    "default_chain = LLMChain(llm=llm, prompt=default_prompt)"
   ]
  },
  {
   "cell_type": "markdown",
   "id": "89d09828-aa23-4598-8d41-1fcf87d4ae32",
   "metadata": {},
   "source": [
    "Here we prepare for the router chain"
   ]
  },
  {
   "cell_type": "code",
   "execution_count": 36,
   "id": "8828b31d-602f-4eb7-ba2c-9b46d001aed7",
   "metadata": {},
   "outputs": [
    {
     "name": "stdout",
     "output_type": "stream",
     "text": [
      "physics: Good for answering questions about physics\n",
      "computer science: Good for answering computer science questions\n"
     ]
    }
   ],
   "source": [
    "destinations = [f\"{p['name']}: {p['description']}\" for p in prompts]\n",
    "destinations_str = \"\\n\".join(destinations)\n",
    "print(destinations_str)"
   ]
  },
  {
   "cell_type": "code",
   "execution_count": 37,
   "id": "df037dbf-09cc-42b5-bbe3-fcbc92740f00",
   "metadata": {},
   "outputs": [],
   "source": [
    "MULTI_PROMPT_ROUTER_TEMPLATE = r\"\"\"Given a raw text input to a \\\n",
    "language model select the model prompt best suited for the input. \\\n",
    "You will be given the names of the available prompts and a \\\n",
    "description of what the prompt is best suited for. \\\n",
    "You may also revise the original input if you think that revising\\\n",
    "it will ultimately lead to a better response from the language model.\n",
    "\n",
    "<< FORMATTING >>\n",
    "Return a markdown code snippet with a JSON object formatted to look like:\n",
    "```json\n",
    "{{{{\n",
    "    \"destination\": string \\ name of the prompt to use or \"DEFAULT\"\n",
    "    \"next_inputs\": string \\ a potentially modified version of the original input\n",
    "}}}}\n",
    "```\n",
    "\n",
    "REMEMBER: \"destination\" MUST be one of the candidate prompt \\\n",
    "names specified below OR it can be \"DEFAULT\" if the input is not\\\n",
    "well suited for any of the candidate prompts.\n",
    "REMEMBER: \"next_inputs\" can just be the original input \\\n",
    "if you don't think any modifications are needed.\n",
    "\n",
    "<< CANDIDATE PROMPTS >>\n",
    "{destinations}\n",
    "\n",
    "<< INPUT >>\n",
    "{{input}}\n",
    "\n",
    "<< OUTPUT (remember to include the ```json)>>\"\"\"\n",
    "\n",
    "router_template = MULTI_PROMPT_ROUTER_TEMPLATE.format(\n",
    "    destinations=destinations_str\n",
    ")\n",
    "\n",
    "router_prompt = PromptTemplate(\n",
    "    template=router_template,\n",
    "    input_variables=[\"input\"],\n",
    "    output_parser=RouterOutputParser(),\n",
    ")\n",
    "\n",
    "router_chain = LLMRouterChain.from_llm(llm, router_prompt)"
   ]
  },
  {
   "cell_type": "code",
   "execution_count": 38,
   "id": "37f6e976-eb14-4adb-9556-579a4ee588f3",
   "metadata": {},
   "outputs": [],
   "source": [
    "chain = MultiPromptChain(\n",
    "    router_chain=router_chain, \n",
    "    destination_chains=destination_chains, \n",
    "    default_chain=default_chain, verbose=True\n",
    ")"
   ]
  },
  {
   "cell_type": "code",
   "execution_count": 39,
   "id": "d7e1d6cd-aa68-4de5-bfe8-0cf1273b6a13",
   "metadata": {},
   "outputs": [
    {
     "name": "stdout",
     "output_type": "stream",
     "text": [
      "\n",
      "\n",
      "\u001b[1m> Entering new MultiPromptChain chain...\u001b[0m\n",
      "physics: {'input': 'Percus Yevick equation?'}\n",
      "\u001b[1m> Finished chain.\u001b[0m\n",
      "A classic! The Percus-Yevick equation, also known as the PY equation, is a mathematical formula used in particle physics to describe the scattering of particles with spin.\n",
      "\n",
      "It's a bit of a mouthful, but the PY equation is essentially an extension of the Bethe-Heitler formula, which accounts for the electromagnetic interaction between two charged particles. The Percus-Yevick equation takes this a step further by incorporating the effects of quantum mechanics and relativity on particle scattering.\n",
      "\n",
      "In simpler terms, the PY equation helps us understand how subatomic particles interact with each other at very high energies. It's an important tool in particle physics research, particularly when studying processes like electron-positron annihilation or hadronic collisions.\n",
      "\n",
      "Now, if you're interested in a more detailed explanation or want to know about its applications, I'm here to help!\n"
     ]
    }
   ],
   "source": [
    "result = chain.invoke(\"What is Percus Yevick equation?\")\n",
    "\n",
    "print(result['text'])"
   ]
  },
  {
   "cell_type": "code",
   "execution_count": 40,
   "id": "f5b18440-23a4-4e7a-939b-3ad7cf15fa7f",
   "metadata": {},
   "outputs": [
    {
     "name": "stdout",
     "output_type": "stream",
     "text": [
      "\n",
      "\n",
      "\u001b[1m> Entering new MultiPromptChain chain...\u001b[0m\n",
      "computer science: {'input': \"Is there a specific solution or algorithm you're looking for regarding the Travelling Salesman Problem?\"}\n",
      "\u001b[1m> Finished chain.\u001b[0m\n",
      "A classic problem!\n",
      "\n",
      "For TSP, I'd recommend exploring dynamic programming approaches like Christofides Algorithm or 2-Opt Heuristics. These methods balance time and space complexity well.\n",
      "\n",
      "If you're interested in exact solutions, we can discuss Concorde's algorithm, which uses branch-and-bound with cutting planes to find the optimal tour. However, this method is more complex and may not be suitable for large instances.\n",
      "\n",
      "Which approach are you leaning towards?\n"
     ]
    }
   ],
   "source": [
    "result = chain.invoke(\"what is the travelling salesman problem\")\n",
    "\n",
    "print(result['text'])"
   ]
  },
  {
   "cell_type": "code",
   "execution_count": 41,
   "id": "e36cf0af-93e8-4e79-80ac-d0bba7ea7422",
   "metadata": {},
   "outputs": [
    {
     "name": "stdout",
     "output_type": "stream",
     "text": [
      "\n",
      "\n",
      "\u001b[1m> Entering new MultiPromptChain chain...\u001b[0m\n",
      "computer science: {'input': 'What is Next Generation Sequencing (NGS)?'}\n",
      "\u001b[1m> Finished chain.\u001b[0m\n",
      "Next-Generation Sequencing (NGS) refers to the technology used in DNA sequencing, which allows for rapid and cost-effective analysis of an individual's entire genome or specific regions of interest. NGS enables the simultaneous analysis of millions of DNA fragments, resulting in faster turnaround times and higher resolution than traditional Sanger sequencing methods.\n"
     ]
    }
   ],
   "source": [
    "result = chain.invoke(\"what is NGS?\")\n",
    "\n",
    "print(result['text'])"
   ]
  },
  {
   "cell_type": "markdown",
   "id": "75bf472d-3aff-43db-b0a7-ee5a6f9bd88c",
   "metadata": {},
   "source": [
    "# QA for Documents"
   ]
  },
  {
   "cell_type": "code",
   "execution_count": 42,
   "id": "cd97cc9c-e394-4552-b454-b9c73b3986a6",
   "metadata": {},
   "outputs": [],
   "source": [
    "from langchain.document_loaders import CSVLoader\n",
    "from langchain.indexes import VectorstoreIndexCreator\n",
    "from langchain.vectorstores import DocArrayInMemorySearch\n",
    "from langchain_community.embeddings import OllamaEmbeddings\n",
    "from langchain.chains import RetrievalQA\n",
    "from IPython.display import display, Markdown"
   ]
  },
  {
   "cell_type": "markdown",
   "id": "c5568fe4-7d0f-46db-bfe9-6de34bc7fdae",
   "metadata": {},
   "source": [
    "## Overview"
   ]
  },
  {
   "cell_type": "code",
   "execution_count": 43,
   "id": "33fdd183-01e4-405c-8611-e52405aa43fc",
   "metadata": {},
   "outputs": [
    {
     "name": "stderr",
     "output_type": "stream",
     "text": [
      "/home/yushi/.env-langchain/lib/python3.12/site-packages/pydantic/_migration.py:283: UserWarning: `pydantic.error_wrappers:ValidationError` has been moved to `pydantic:ValidationError`.\n",
      "  warnings.warn(f'`{import_path}` has been moved to `{new_location}`.')\n"
     ]
    }
   ],
   "source": [
    "EMBEDDING_MODEL = \"all-minilm\"\n",
    "file = 'OutdoorClothingCatalog_1000.csv'\n",
    "loader = CSVLoader(file_path=file)\n",
    "index = VectorstoreIndexCreator(\n",
    "    embedding=OllamaEmbeddings(model=EMBEDDING_MODEL),\n",
    "    vectorstore_cls=DocArrayInMemorySearch\n",
    ").from_loaders([loader])"
   ]
  },
  {
   "cell_type": "code",
   "execution_count": 44,
   "id": "f913619c-4a45-44da-86ac-89c17ac757aa",
   "metadata": {},
   "outputs": [],
   "source": [
    "LLM_MODEL = \"llama3\"\n",
    "llm = Ollama(model=LLM_MODEL)\n",
    "\n",
    "query =\"Please list all your shirts with sun protection \\\n",
    "in a table in markdown and summarize each one.\"\n",
    "\n",
    "response = index.query(query, llm=llm)"
   ]
  },
  {
   "cell_type": "code",
   "execution_count": 45,
   "id": "13cc0764-fce5-4173-8a4e-b45b285cc51e",
   "metadata": {},
   "outputs": [
    {
     "data": {
      "text/markdown": [
       "Here are the shirts with sun protection listed in a table:\n",
       "\n",
       "| Shirts | Description | Sun Protection |\n",
       "| --- | --- | --- |\n",
       "| Sun Shield Shirt | High-performance sun shirt for UV ray protection | SPF 50+ (blocks 98% of sun's harmful rays) |\n",
       "| Tropical Breeze Shirt | Lightweight, breathable long-sleeve UPF shirt for superior sun protection | SPF 50+ (blocks 98% of sun's harmful rays) |\n",
       "| Women's Tropical Tee, Sleeveless | Five-star sleeveless button-up shirt with SunSmart UPF 50+ rating | SPF 50+ (blocks 98% of sun's harmful rays) |\n",
       "| Girls' Beachside Breeze Shirt, Half-Sleeve | Rash guard-style swim shirt with built-in UPF 50+ protection | SPF 50+ (blocks 98% of sun's harmful rays) |\n",
       "\n",
       "Summary:\n",
       "All the shirts listed have high-performance fabric with SPF 50+ sun protection, blocking 98% of the sun's harmful UV rays. They are suitable for outdoor activities such as swimming, fishing, and travel to protect skin from damage."
      ],
      "text/plain": [
       "<IPython.core.display.Markdown object>"
      ]
     },
     "metadata": {},
     "output_type": "display_data"
    }
   ],
   "source": [
    "display(Markdown(response))"
   ]
  },
  {
   "cell_type": "markdown",
   "id": "c2c99173-0f17-4672-a478-f2e0f1309b17",
   "metadata": {},
   "source": [
    "## Step-by-Step"
   ]
  },
  {
   "cell_type": "code",
   "execution_count": 46,
   "id": "8875ddb1-bd5e-49e2-abf5-126c2c488724",
   "metadata": {},
   "outputs": [
    {
     "data": {
      "text/plain": [
       "Document(metadata={'source': 'OutdoorClothingCatalog_1000.csv', 'row': 0}, page_content=\": 0\\nname: Women's Campside Oxfords\\ndescription: This ultracomfortable lace-to-toe Oxford boasts a super-soft canvas, thick cushioning, and quality construction for a broken-in feel from the first time you put them on. \\n\\nSize & Fit: Order regular shoe size. For half sizes not offered, order up to next whole size. \\n\\nSpecs: Approx. weight: 1 lb.1 oz. per pair. \\n\\nConstruction: Soft canvas material for a broken-in feel and look. Comfortable EVA innersole with Cleansport NXT® antimicrobial odor control. Vintage hunt, fish and camping motif on innersole. Moderate arch contour of innersole. EVA foam midsole for cushioning and support. Chain-tread-inspired molded rubber outsole with modified chain-tread pattern. Imported. \\n\\nQuestions? Please contact us for any inquiries.\")"
      ]
     },
     "execution_count": 46,
     "metadata": {},
     "output_type": "execute_result"
    }
   ],
   "source": [
    "loader = CSVLoader(file_path=file)\n",
    "docs = loader.load()\n",
    "docs[0]"
   ]
  },
  {
   "cell_type": "code",
   "execution_count": 47,
   "id": "6b6315a3-5b5c-45fd-9b09-afa040371fe3",
   "metadata": {},
   "outputs": [
    {
     "data": {
      "text/plain": [
       "(384,\n",
       " [-0.40551620721817017,\n",
       "  0.2655082643032074,\n",
       "  0.12681838870048523,\n",
       "  0.42601901292800903,\n",
       "  -0.5726575255393982])"
      ]
     },
     "execution_count": 47,
     "metadata": {},
     "output_type": "execute_result"
    }
   ],
   "source": [
    "embeddings = OllamaEmbeddings(model=EMBEDDING_MODEL)\n",
    "embed = embeddings.embed_query(\"Hi my name is Yushi\")\n",
    "len(embed), embed[:5]"
   ]
  },
  {
   "cell_type": "code",
   "execution_count": 48,
   "id": "6178e893-34de-4864-a46f-e3054cd5559c",
   "metadata": {},
   "outputs": [],
   "source": [
    "db = DocArrayInMemorySearch.from_documents(docs, embeddings)"
   ]
  },
  {
   "cell_type": "code",
   "execution_count": 49,
   "id": "08078563-e058-4622-9637-5f19e94faa69",
   "metadata": {},
   "outputs": [
    {
     "data": {
      "text/markdown": [
       "Here is the list of shirts with sun protection in a table format using Markdown:\n",
       "\n",
       "| Shirt Name | Description | Sun Protection |\n",
       "| --- | --- | --- |\n",
       "| Sun Shield Shirt | Block the sun, not the fun - our high-performance sun shirt is guaranteed to protect from harmful UV rays. | UPF 50+ rated, blocks 98% of the sun's harmful rays |\n",
       "| Tropical Breeze Shirt | Beat the heat in this lightweight, breathable long-sleeve men's UPF shirt, offering superior SunSmart protection from the sun's harmful rays. | UPF 50+ rated, blocks 98% of the sun's harmful rays |\n",
       "| Women's Tropical Tee, Sleeveless | Our five-star sleeveless button-up shirt has a fit to flatter and SunSmart protection to block the sun's harmful UV rays. | UPF 50+ rated, blocks 98% of the sun's harmful rays |\n",
       "| Men's Plaid Tropic Shirt, Short-Sleeve | Our Ultracomfortable sun protection is rated to UPF 50+, helping you stay cool and dry. | UPF 50+ rated, blocks 98% of the sun's harmful rays |\n",
       "\n",
       "Note: All shirts have a UPF (Ultraviolet Protection Factor) rating of 50+, which means they block at least 95% of UVB rays and at least 90% of UVA rays."
      ],
      "text/plain": [
       "<IPython.core.display.Markdown object>"
      ]
     },
     "metadata": {},
     "output_type": "display_data"
    }
   ],
   "source": [
    "llm = Ollama(model=LLM_MODEL, verbose=True)\n",
    "retriever = db.as_retriever()\n",
    "\n",
    "query = \"Please suggest a shirt with sunblocking\"\n",
    "docs = db.similarity_search(query, k=4)\n",
    "qdocs = \"\".join(\n",
    "    [docs[i].page_content for i in range(len(docs))]\n",
    ")\n",
    "\n",
    "response = llm.invoke(\n",
    "    f\"{qdocs} Question: Please list all your \\\n",
    "shirts with sun protection in a table in markdown\"\n",
    ")\n",
    "\n",
    "display(Markdown(response))"
   ]
  },
  {
   "cell_type": "markdown",
   "id": "3c45c6b6-773c-43aa-b762-52fcc7cf6457",
   "metadata": {},
   "source": [
    "## RetrievalQA Chain\n",
    "\n",
    "Tbe `RetrievalQA` chain can acheive identical RAG results."
   ]
  },
  {
   "cell_type": "code",
   "execution_count": 50,
   "id": "4648f17c-ac35-4cee-9c83-375ed512ecb7",
   "metadata": {},
   "outputs": [
    {
     "name": "stdout",
     "output_type": "stream",
     "text": [
      "\n",
      "\n",
      "\u001b[1m> Entering new RetrievalQA chain...\u001b[0m\n",
      "\n",
      "\u001b[1m> Finished chain.\u001b[0m\n"
     ]
    },
    {
     "data": {
      "text/markdown": [
       "Here are the shirts with sun protection listed in a table:\n",
       "\n",
       "| Shirt Name | Sun Protection |\n",
       "| --- | --- |\n",
       "| Sun Shield Shirt by [name] | UPF 50+, SPF 50+ (blocks 98% of sun's harmful rays) |\n",
       "| Women's Tropical Tee, Sleeveless | UPF 50+, SPF 50+ (blocks 98% of sun's harmful rays) |\n",
       "| Tropical Breeze Shirt | UPF 50+, SPF 50+ (blocks 98% of sun's harmful rays) |\n",
       "| Girls' Beachside Breeze Shirt, Half-Sleeve | UPF 50+, SPF 50+ (blocks 98% of sun's harmful rays) |\n",
       "\n",
       "Let me know if you need anything else!"
      ],
      "text/plain": [
       "<IPython.core.display.Markdown object>"
      ]
     },
     "metadata": {},
     "output_type": "display_data"
    }
   ],
   "source": [
    "qa_stuff = RetrievalQA.from_chain_type(\n",
    "    llm=llm, \n",
    "    chain_type=\"stuff\",  # \"stuffs\" all documents into context\n",
    "    retriever=db.as_retriever(), \n",
    "    verbose=True\n",
    ")\n",
    "query = \"Please list all your shirts with sun protection in a table in markdown.\"\n",
    "response = qa_stuff.invoke(query)\n",
    "display(Markdown(response['result']))"
   ]
  },
  {
   "cell_type": "markdown",
   "id": "5b9b46f9-4139-47f1-b167-85b033c263f1",
   "metadata": {},
   "source": [
    "# Retrievel Methods\n",
    "\n",
    "## Stuff\n",
    "\n",
    "put all retrieved chunks into the context. Then call LLM once. The **most common method**.\n",
    "\n",
    "```mermaid\n",
    "flowchart LR\n",
    "A[Documents] --> B(chunk)\n",
    "A --> C(chunk)\n",
    "A --> D(chunk)\n",
    "B --> L[LLM]\n",
    "C --> L\n",
    "D --> L  --> R[Response]\n",
    "```\n",
    "\n",
    "## Map Reduce\n",
    "\n",
    "pass each chunk and query to LLM, then use LLM to process the responses. The **second most common method**.\n",
    "\n",
    "```mermaid\n",
    "flowchart LR\n",
    "A[Documents] --> B(chunk) --> LB[LLM]\n",
    "A --> C(chunk) --> LC[LLM]\n",
    "A --> D(chunk) --> LD[LLM]\n",
    "LB --> L[LLM]\n",
    "LC --> L\n",
    "LD --> L  --> R[Response]\n",
    "```\n",
    "\n",
    "## Refine\n",
    "\n",
    "Builds the answer iteratively.\n",
    "\n",
    "```mermaid\n",
    "flowchart LR\n",
    "A[Documents] --> B(chunk) --> LB[LLM]\n",
    "A --> C(chunk) --> LC[LLM]\n",
    "A --> D(chunk) --> LD[LLM]\n",
    "LB --> LC\n",
    "LC --> LD\n",
    "LD --> R[Response]\n",
    "```\n",
    "\n",
    "## Map Rerank\n",
    "\n",
    "```mermaid\n",
    "flowchart LR\n",
    "A[Documents] --> B(chunk) --> LB[LLM] --> SB(Score 40)\n",
    "A --> C(chunk) --> LC[LLM] --> SC(Score 60) --> R[Response]\n",
    "A --> D(chunk) --> LD[LLM] --> SD(Score 32)\n",
    "```\n",
    "\n",
    "# LLM Evaluation\n",
    "\n",
    "## General Instruction\n",
    "\n",
    "1. Visualisation: to understand the input/output data.\n",
    "2. Create examples for evaluation.\n",
    "3. Use LLM to evaluate.\n",
    "\n",
    "Here is a Step by Step guide.\n",
    "\n",
    "## Setting Up"
   ]
  },
  {
   "cell_type": "code",
   "execution_count": 51,
   "id": "829b25f2-afe8-42e5-8178-669c262d3bbb",
   "metadata": {},
   "outputs": [],
   "source": [
    "file = 'OutdoorClothingCatalog_1000.csv'\n",
    "loader = CSVLoader(file_path=file)\n",
    "data = loader.load()\n",
    "\n",
    "index = VectorstoreIndexCreator(\n",
    "    embedding=OllamaEmbeddings(model=EMBEDDING_MODEL),\n",
    "    vectorstore_cls=DocArrayInMemorySearch\n",
    ").from_loaders([loader])"
   ]
  },
  {
   "cell_type": "code",
   "execution_count": 52,
   "id": "749dbb4b-ad9d-4744-9aca-b3c8ddb7ed0d",
   "metadata": {},
   "outputs": [],
   "source": [
    "LLM_MODEL = \"llama3\"\n",
    "llm = Ollama(model=LLM_MODEL)\n",
    "\n",
    "qa = RetrievalQA.from_chain_type(\n",
    "    llm=llm, \n",
    "    chain_type=\"stuff\", \n",
    "    retriever=index.vectorstore.as_retriever(), \n",
    ")"
   ]
  },
  {
   "cell_type": "markdown",
   "id": "78f3fcda-823c-4d20-a672-e95f842b9b7e",
   "metadata": {},
   "source": [
    "To evaluate the result, we should create standard \"Question\" + \"Answer\" examples.\n",
    "\n",
    "## Observing the Data\n",
    "\n",
    "We can generate such examples by observing the data."
   ]
  },
  {
   "cell_type": "code",
   "execution_count": 53,
   "id": "b4628a7a-078a-407a-8989-4ba6a934220b",
   "metadata": {},
   "outputs": [
    {
     "name": "stdout",
     "output_type": "stream",
     "text": [
      ": 10\n",
      "name: Cozy Comfort Pullover Set, Stripe\n",
      "description: Perfect for lounging, this striped knit set lives up to its name. We used ultrasoft fabric and an easy design that's as comfortable at bedtime as it is when we have to make a quick run out.\n",
      "\n",
      "Size & Fit\n",
      "- Pants are Favorite Fit: Sits lower on the waist.\n",
      "- Relaxed Fit: Our most generous fit sits farthest from the body.\n",
      "\n",
      "Fabric & Care\n",
      "- In the softest blend of 63% polyester, 35% rayon and 2% spandex.\n",
      "\n",
      "Additional Features\n",
      "- Relaxed fit top with raglan sleeves and rounded hem.\n",
      "- Pull-on pants have a wide elastic waistband and drawstring, side pockets and a modern slim leg.\n",
      "\n",
      "Imported.\n"
     ]
    }
   ],
   "source": [
    "print(data[10].page_content)"
   ]
  },
  {
   "cell_type": "markdown",
   "id": "50d887be-3b68-4981-8f9a-27914c1103de",
   "metadata": {},
   "source": [
    "## Creating Examples Manually"
   ]
  },
  {
   "cell_type": "code",
   "execution_count": 54,
   "id": "aeff5155-489e-4bf0-83fc-66eef2129cbf",
   "metadata": {},
   "outputs": [],
   "source": [
    "examples = [\n",
    "    {\n",
    "        \"query\": \"Do the Cozy Comfort Pullover Set have side pockets?\",\n",
    "        \"answer\": \"Yes\"\n",
    "    },\n",
    "    {\n",
    "        \"query\": \"What collection is the Ultra-Lofty 850 Stretch Down Hooded Jacket from?\",\n",
    "        \"answer\": \"The DownTek collection\"\n",
    "    }\n",
    "]"
   ]
  },
  {
   "cell_type": "markdown",
   "id": "7d5b513d-2c76-4bea-9051-516706f17f05",
   "metadata": {},
   "source": [
    "## Generating Examples Automatically with LLMs\n",
    "\n",
    "the following code was copied from\n",
    "\n",
    "```sh\n",
    "langchain/evaluation/qa/generate_chain.py\n",
    "```\n",
    "\n",
    "So that our code will be compatible with the new interface for langchain 0.2+"
   ]
  },
  {
   "cell_type": "code",
   "execution_count": 55,
   "id": "0268e333-42b6-4251-9246-4070ceaeb0ca",
   "metadata": {},
   "outputs": [],
   "source": [
    "from langchain.output_parsers.regex import RegexParser\n",
    "\n",
    "\n",
    "qa_gen_parser = RegexParser(\n",
    "    regex=r\"QUESTION: (.*?)\\n+ANSWER: (.*)\", output_keys=[\"query\", \"answer\"]\n",
    ")\n",
    "\n",
    "qa_gen_template = \"\"\"You are a teacher coming up with questions to ask on a quiz.\n",
    "Given the following document, please generate a question and answer based on that document.\n",
    "\n",
    "Example Format:\n",
    "<Begin Document>\n",
    "...\n",
    "<End Document>\n",
    "QUESTION: question here\n",
    "ANSWER: answer here\n",
    "\n",
    "These questions should be detailed and be based explicitly on information in the document. Begin!\n",
    "\n",
    "<Begin Document>\n",
    "{doc}\n",
    "<End Document>\"\"\"\n",
    "\n",
    "qa_gen_prompt = PromptTemplate(\n",
    "    input_variables=[\"doc\"],\n",
    "    template=qa_gen_template,\n",
    ")"
   ]
  },
  {
   "cell_type": "markdown",
   "id": "b63e1848-da75-45dd-927f-3f95d00c493c",
   "metadata": {},
   "source": [
    "We now build the `QAGenerateChain` with the runable interface.\n",
    "\n",
    "For old langchain version (<= 0.1), we can use\n",
    "\n",
    "```python\n",
    "qa_gen = QAGenerateChain.from_llm(llm)\n",
    "\n",
    "new_examples = qa_gen.apply_and_parse(\n",
    "    [{\"doc\": t} for t in data[:5]]\n",
    ")\n",
    "```"
   ]
  },
  {
   "cell_type": "code",
   "execution_count": 56,
   "id": "60f2fd30-e970-4c23-b98a-238295a70f2c",
   "metadata": {},
   "outputs": [],
   "source": [
    "LLM_MODEL = \"llama3\"\n",
    "llm = Ollama(model=LLM_MODEL)\n",
    "\n",
    "qa_gen = qa_gen_prompt | llm | qa_gen_parser\n",
    "\n",
    "new_examples = qa_gen.batch(\n",
    "    [{\"doc\": t} for t in data[:5]]\n",
    ")"
   ]
  },
  {
   "cell_type": "code",
   "execution_count": 57,
   "id": "e12e08a4-a192-45bd-8a9c-e7d93bacb3f8",
   "metadata": {},
   "outputs": [
    {
     "data": {
      "text/plain": [
       "[{'query': \"What type of material is used in the construction of the Women's Campside Oxfords?\",\n",
       "  'answer': 'Soft canvas material.'},\n",
       " {'query': 'What percentage of recycled materials are used to make the fabric of the Recycled Waterhog Dog Mat?',\n",
       "  'answer': '94%'},\n",
       " {'query': \"What feature of this toddler's swimsuit provides the highest rated sun protection possible, blocking 98% of the sun's harmful rays?\",\n",
       "  'answer': 'The UPF 50+ rated fabric.'},\n",
       " {'query': \"What percentage of the swimtop's body is made up of recycled nylon?\",\n",
       "  'answer': '82%'},\n",
       " {'query': 'What technology does EcoFlex 3L Storm Pants feature to provide enhanced breathability?',\n",
       "  'answer': 'TEK O2 technology.'}]"
      ]
     },
     "execution_count": 57,
     "metadata": {},
     "output_type": "execute_result"
    }
   ],
   "source": [
    "new_examples"
   ]
  },
  {
   "cell_type": "markdown",
   "id": "c9b14eec-e460-4bce-b527-5f740d3f2ad2",
   "metadata": {},
   "source": [
    "## Manually Evaluate"
   ]
  },
  {
   "cell_type": "code",
   "execution_count": 58,
   "id": "3329e6f4-96ce-4060-b488-7830aede8d7f",
   "metadata": {},
   "outputs": [
    {
     "data": {
      "text/plain": [
       "{'query': 'Do the Cozy Comfort Pullover Set have side pockets?',\n",
       " 'result': 'According to the Additional Features section of the product description, the pull-on pants in the Cozy Comfort Pullover Set have \"side pockets\". Therefore, the answer is:\\n\\nYes, the Cozy Comfort Pullover Set has side pockets.'}"
      ]
     },
     "execution_count": 58,
     "metadata": {},
     "output_type": "execute_result"
    }
   ],
   "source": [
    "examples += new_examples\n",
    "\n",
    "qa.invoke(examples[0][\"query\"])"
   ]
  },
  {
   "cell_type": "code",
   "execution_count": 59,
   "id": "600450f1-46d2-446a-bd9a-8aad903ba971",
   "metadata": {},
   "outputs": [
    {
     "data": {
      "text/plain": [
       "'Yes'"
      ]
     },
     "execution_count": 59,
     "metadata": {},
     "output_type": "execute_result"
    }
   ],
   "source": [
    "examples[0][\"answer\"]"
   ]
  },
  {
   "cell_type": "markdown",
   "id": "2c1e9250-c3ab-4aa0-b34a-594b1de74678",
   "metadata": {},
   "source": [
    "## Debug\n",
    "\n",
    "We can use the following setup to use the debug mode and see the exact input/ouput for the LLM."
   ]
  },
  {
   "cell_type": "code",
   "execution_count": 60,
   "id": "e83efdad-e4d5-4a31-984d-c1f9fa9d6bd7",
   "metadata": {},
   "outputs": [
    {
     "name": "stdout",
     "output_type": "stream",
     "text": [
      "\u001b[32;1m\u001b[1;3m[chain/start]\u001b[0m \u001b[1m[chain:RetrievalQA] Entering Chain run with input:\n",
      "\u001b[0m{\n",
      "  \"query\": \"Do the Cozy Comfort Pullover Set have side pockets?\"\n",
      "}\n",
      "\u001b[32;1m\u001b[1;3m[chain/start]\u001b[0m \u001b[1m[chain:RetrievalQA > chain:StuffDocumentsChain] Entering Chain run with input:\n",
      "\u001b[0m[inputs]\n",
      "\u001b[32;1m\u001b[1;3m[chain/start]\u001b[0m \u001b[1m[chain:RetrievalQA > chain:StuffDocumentsChain > chain:LLMChain] Entering Chain run with input:\n",
      "\u001b[0m{\n",
      "  \"question\": \"Do the Cozy Comfort Pullover Set have side pockets?\",\n",
      "  \"context\": \": 73\\nname: Cozy Cuddles Knit Pullover Set\\ndescription: Perfect for lounging, this knit set lives up to its name. We used ultrasoft fabric and an easy design that's as comfortable at bedtime as it is when we have to make a quick run out. \\n\\nSize & Fit \\nPants are Favorite Fit: Sits lower on the waist. \\nRelaxed Fit: Our most generous fit sits farthest from the body. \\n\\nFabric & Care \\nIn the softest blend of 63% polyester, 35% rayon and 2% spandex.\\n\\nAdditional Features \\nRelaxed fit top with raglan sleeves and rounded hem. \\nPull-on pants have a wide elastic waistband and drawstring, side pockets and a modern slim leg. \\nImported.\\n\\nBerber fleece-lined pockets keep hands warm. One pocket has a hidden security pocket tucked inside. Imported.\\n\\n: 10\\nname: Cozy Comfort Pullover Set, Stripe\\ndescription: Perfect for lounging, this striped knit set lives up to its name. We used ultrasoft fabric and an easy design that's as comfortable at bedtime as it is when we have to make a quick run out.\\n\\nSize & Fit\\n- Pants are Favorite Fit: Sits lower on the waist.\\n- Relaxed Fit: Our most generous fit sits farthest from the body.\\n\\nFabric & Care\\n- In the softest blend of 63% polyester, 35% rayon and 2% spandex.\\n\\nAdditional Features\\n- Relaxed fit top with raglan sleeves and rounded hem.\\n- Pull-on pants have a wide elastic waistband and drawstring, side pockets and a modern slim leg.\\n\\nImported.\\n\\nAdditional Features: Bonded construction insulates for extra warmth and won't stretch out of shape. Classic shirt jac styling, with collar and modified hem for extra coverage. Full snap placket for easy on/off. Chest pockets with snap closures. Pencil pocket on chest. Underarm gussets enhance mobility. Berber fleece-lined pockets keep hands warm. One pocket has a hidden security pocket tucked inside. Imported\"\n",
      "}\n",
      "\u001b[32;1m\u001b[1;3m[llm/start]\u001b[0m \u001b[1m[chain:RetrievalQA > chain:StuffDocumentsChain > chain:LLMChain > llm:Ollama] Entering LLM run with input:\n",
      "\u001b[0m{\n",
      "  \"prompts\": [\n",
      "    \"Use the following pieces of context to answer the question at the end. If you don't know the answer, just say that you don't know, don't try to make up an answer.\\n\\n: 73\\nname: Cozy Cuddles Knit Pullover Set\\ndescription: Perfect for lounging, this knit set lives up to its name. We used ultrasoft fabric and an easy design that's as comfortable at bedtime as it is when we have to make a quick run out. \\n\\nSize & Fit \\nPants are Favorite Fit: Sits lower on the waist. \\nRelaxed Fit: Our most generous fit sits farthest from the body. \\n\\nFabric & Care \\nIn the softest blend of 63% polyester, 35% rayon and 2% spandex.\\n\\nAdditional Features \\nRelaxed fit top with raglan sleeves and rounded hem. \\nPull-on pants have a wide elastic waistband and drawstring, side pockets and a modern slim leg. \\nImported.\\n\\nBerber fleece-lined pockets keep hands warm. One pocket has a hidden security pocket tucked inside. Imported.\\n\\n: 10\\nname: Cozy Comfort Pullover Set, Stripe\\ndescription: Perfect for lounging, this striped knit set lives up to its name. We used ultrasoft fabric and an easy design that's as comfortable at bedtime as it is when we have to make a quick run out.\\n\\nSize & Fit\\n- Pants are Favorite Fit: Sits lower on the waist.\\n- Relaxed Fit: Our most generous fit sits farthest from the body.\\n\\nFabric & Care\\n- In the softest blend of 63% polyester, 35% rayon and 2% spandex.\\n\\nAdditional Features\\n- Relaxed fit top with raglan sleeves and rounded hem.\\n- Pull-on pants have a wide elastic waistband and drawstring, side pockets and a modern slim leg.\\n\\nImported.\\n\\nAdditional Features: Bonded construction insulates for extra warmth and won't stretch out of shape. Classic shirt jac styling, with collar and modified hem for extra coverage. Full snap placket for easy on/off. Chest pockets with snap closures. Pencil pocket on chest. Underarm gussets enhance mobility. Berber fleece-lined pockets keep hands warm. One pocket has a hidden security pocket tucked inside. Imported\\n\\nQuestion: Do the Cozy Comfort Pullover Set have side pockets?\\nHelpful Answer:\"\n",
      "  ]\n",
      "}\n",
      "\u001b[36;1m\u001b[1;3m[llm/end]\u001b[0m \u001b[1m[chain:RetrievalQA > chain:StuffDocumentsChain > chain:LLMChain > llm:Ollama] [965ms] Exiting LLM run with output:\n",
      "\u001b[0m{\n",
      "  \"generations\": [\n",
      "    [\n",
      "      {\n",
      "        \"text\": \"According to the context, the answer is:\\n\\nYes, the Cozy Comfort Pullover Set (as well as the Cozy Cuddles Knit Pullover Set) have pull-on pants with \\\"side pockets\\\".\",\n",
      "        \"generation_info\": {\n",
      "          \"model\": \"llama3\",\n",
      "          \"created_at\": \"2024-07-19T05:38:59.291526683Z\",\n",
      "          \"response\": \"\",\n",
      "          \"done\": true,\n",
      "          \"done_reason\": \"stop\",\n",
      "          \"context\": [\n",
      "            128006,\n",
      "            882,\n",
      "            128007,\n",
      "            198,\n",
      "            198,\n",
      "            10464,\n",
      "            279,\n",
      "            2768,\n",
      "            9863,\n",
      "            315,\n",
      "            2317,\n",
      "            311,\n",
      "            4320,\n",
      "            279,\n",
      "            3488,\n",
      "            520,\n",
      "            279,\n",
      "            842,\n",
      "            13,\n",
      "            1442,\n",
      "            499,\n",
      "            1541,\n",
      "            6,\n",
      "            83,\n",
      "            1440,\n",
      "            279,\n",
      "            4320,\n",
      "            11,\n",
      "            1120,\n",
      "            2019,\n",
      "            430,\n",
      "            499,\n",
      "            1541,\n",
      "            6,\n",
      "            83,\n",
      "            1440,\n",
      "            11,\n",
      "            1541,\n",
      "            6,\n",
      "            83,\n",
      "            1456,\n",
      "            311,\n",
      "            1304,\n",
      "            709,\n",
      "            459,\n",
      "            4320,\n",
      "            13,\n",
      "            271,\n",
      "            25,\n",
      "            220,\n",
      "            5958,\n",
      "            198,\n",
      "            609,\n",
      "            25,\n",
      "            3623,\n",
      "            4341,\n",
      "            356,\n",
      "            8512,\n",
      "            645,\n",
      "            13934,\n",
      "            275,\n",
      "            35962,\n",
      "            57597,\n",
      "            2638,\n",
      "            198,\n",
      "            4789,\n",
      "            25,\n",
      "            24118,\n",
      "            369,\n",
      "            84244,\n",
      "            287,\n",
      "            11,\n",
      "            420,\n",
      "            53203,\n",
      "            743,\n",
      "            6439,\n",
      "            709,\n",
      "            311,\n",
      "            1202,\n",
      "            836,\n",
      "            13,\n",
      "            1226,\n",
      "            1511,\n",
      "            8725,\n",
      "            13811,\n",
      "            14450,\n",
      "            13354,\n",
      "            323,\n",
      "            459,\n",
      "            4228,\n",
      "            2955,\n",
      "            430,\n",
      "            6,\n",
      "            82,\n",
      "            439,\n",
      "            10882,\n",
      "            520,\n",
      "            89607,\n",
      "            439,\n",
      "            433,\n",
      "            374,\n",
      "            994,\n",
      "            584,\n",
      "            617,\n",
      "            311,\n",
      "            1304,\n",
      "            264,\n",
      "            4062,\n",
      "            1629,\n",
      "            704,\n",
      "            13,\n",
      "            720,\n",
      "            198,\n",
      "            1730,\n",
      "            220,\n",
      "            5,\n",
      "            30990,\n",
      "            220,\n",
      "            198,\n",
      "            47,\n",
      "            1821,\n",
      "            527,\n",
      "            40822,\n",
      "            30990,\n",
      "            25,\n",
      "            328,\n",
      "            1220,\n",
      "            4827,\n",
      "            389,\n",
      "            279,\n",
      "            29142,\n",
      "            13,\n",
      "            220,\n",
      "            198,\n",
      "            6882,\n",
      "            52551,\n",
      "            30990,\n",
      "            25,\n",
      "            5751,\n",
      "            1455,\n",
      "            28771,\n",
      "            5052,\n",
      "            23874,\n",
      "            3117,\n",
      "            61943,\n",
      "            505,\n",
      "            279,\n",
      "            2547,\n",
      "            13,\n",
      "            720,\n",
      "            198,\n",
      "            82831,\n",
      "            220,\n",
      "            5,\n",
      "            10852,\n",
      "            220,\n",
      "            198,\n",
      "            644,\n",
      "            279,\n",
      "            8579,\n",
      "            478,\n",
      "            20955,\n",
      "            315,\n",
      "            220,\n",
      "            5495,\n",
      "            4,\n",
      "            56170,\n",
      "            11,\n",
      "            220,\n",
      "            1758,\n",
      "            4,\n",
      "            18803,\n",
      "            263,\n",
      "            323,\n",
      "            220,\n",
      "            17,\n",
      "            4,\n",
      "            993,\n",
      "            45626,\n",
      "            13,\n",
      "            198,\n",
      "            198,\n",
      "            30119,\n",
      "            20289,\n",
      "            220,\n",
      "            198,\n",
      "            6882,\n",
      "            52551,\n",
      "            5052,\n",
      "            1948,\n",
      "            449,\n",
      "            21108,\n",
      "            10946,\n",
      "            43475,\n",
      "            323,\n",
      "            18460,\n",
      "            17728,\n",
      "            13,\n",
      "            220,\n",
      "            198,\n",
      "            37168,\n",
      "            12,\n",
      "            263,\n",
      "            25567,\n",
      "            617,\n",
      "            264,\n",
      "            7029,\n",
      "            36573,\n",
      "            29142,\n",
      "            7198,\n",
      "            323,\n",
      "            4128,\n",
      "            928,\n",
      "            11,\n",
      "            3185,\n",
      "            30278,\n",
      "            323,\n",
      "            264,\n",
      "            6617,\n",
      "            30453,\n",
      "            2531,\n",
      "            13,\n",
      "            220,\n",
      "            198,\n",
      "            11772,\n",
      "            291,\n",
      "            13,\n",
      "            198,\n",
      "            198,\n",
      "            39379,\n",
      "            655,\n",
      "            93090,\n",
      "            12,\n",
      "            15472,\n",
      "            30278,\n",
      "            2567,\n",
      "            6206,\n",
      "            8369,\n",
      "            13,\n",
      "            3861,\n",
      "            18301,\n",
      "            706,\n",
      "            264,\n",
      "            8340,\n",
      "            4868,\n",
      "            18301,\n",
      "            61218,\n",
      "            4871,\n",
      "            13,\n",
      "            73366,\n",
      "            13,\n",
      "            271,\n",
      "            25,\n",
      "            220,\n",
      "            605,\n",
      "            198,\n",
      "            609,\n",
      "            25,\n",
      "            3623,\n",
      "            4341,\n",
      "            44842,\n",
      "            35962,\n",
      "            57597,\n",
      "            2638,\n",
      "            11,\n",
      "            60666,\n",
      "            198,\n",
      "            4789,\n",
      "            25,\n",
      "            24118,\n",
      "            369,\n",
      "            84244,\n",
      "            287,\n",
      "            11,\n",
      "            420,\n",
      "            68690,\n",
      "            53203,\n",
      "            743,\n",
      "            6439,\n",
      "            709,\n",
      "            311,\n",
      "            1202,\n",
      "            836,\n",
      "            13,\n",
      "            1226,\n",
      "            1511,\n",
      "            8725,\n",
      "            13811,\n",
      "            14450,\n",
      "            13354,\n",
      "            323,\n",
      "            459,\n",
      "            4228,\n",
      "            2955,\n",
      "            430,\n",
      "            6,\n",
      "            82,\n",
      "            439,\n",
      "            10882,\n",
      "            520,\n",
      "            89607,\n",
      "            439,\n",
      "            433,\n",
      "            374,\n",
      "            994,\n",
      "            584,\n",
      "            617,\n",
      "            311,\n",
      "            1304,\n",
      "            264,\n",
      "            4062,\n",
      "            1629,\n",
      "            704,\n",
      "            13,\n",
      "            198,\n",
      "            198,\n",
      "            1730,\n",
      "            220,\n",
      "            5,\n",
      "            30990,\n",
      "            198,\n",
      "            12,\n",
      "            67553,\n",
      "            527,\n",
      "            40822,\n",
      "            30990,\n",
      "            25,\n",
      "            328,\n",
      "            1220,\n",
      "            4827,\n",
      "            389,\n",
      "            279,\n",
      "            29142,\n",
      "            13,\n",
      "            198,\n",
      "            12,\n",
      "            6649,\n",
      "            52551,\n",
      "            30990,\n",
      "            25,\n",
      "            5751,\n",
      "            1455,\n",
      "            28771,\n",
      "            5052,\n",
      "            23874,\n",
      "            3117,\n",
      "            61943,\n",
      "            505,\n",
      "            279,\n",
      "            2547,\n",
      "            13,\n",
      "            198,\n",
      "            198,\n",
      "            82831,\n",
      "            220,\n",
      "            5,\n",
      "            10852,\n",
      "            198,\n",
      "            12,\n",
      "            763,\n",
      "            279,\n",
      "            8579,\n",
      "            478,\n",
      "            20955,\n",
      "            315,\n",
      "            220,\n",
      "            5495,\n",
      "            4,\n",
      "            56170,\n",
      "            11,\n",
      "            220,\n",
      "            1758,\n",
      "            4,\n",
      "            18803,\n",
      "            263,\n",
      "            323,\n",
      "            220,\n",
      "            17,\n",
      "            4,\n",
      "            993,\n",
      "            45626,\n",
      "            13,\n",
      "            198,\n",
      "            198,\n",
      "            30119,\n",
      "            20289,\n",
      "            198,\n",
      "            12,\n",
      "            6649,\n",
      "            52551,\n",
      "            5052,\n",
      "            1948,\n",
      "            449,\n",
      "            21108,\n",
      "            10946,\n",
      "            43475,\n",
      "            323,\n",
      "            18460,\n",
      "            17728,\n",
      "            13,\n",
      "            198,\n",
      "            12,\n",
      "            32928,\n",
      "            12,\n",
      "            263,\n",
      "            25567,\n",
      "            617,\n",
      "            264,\n",
      "            7029,\n",
      "            36573,\n",
      "            29142,\n",
      "            7198,\n",
      "            323,\n",
      "            4128,\n",
      "            928,\n",
      "            11,\n",
      "            3185,\n",
      "            30278,\n",
      "            323,\n",
      "            264,\n",
      "            6617,\n",
      "            30453,\n",
      "            2531,\n",
      "            13,\n",
      "            198,\n",
      "            198,\n",
      "            11772,\n",
      "            291,\n",
      "            13,\n",
      "            198,\n",
      "            198,\n",
      "            30119,\n",
      "            20289,\n",
      "            25,\n",
      "            24537,\n",
      "            291,\n",
      "            8246,\n",
      "            1672,\n",
      "            24031,\n",
      "            369,\n",
      "            5066,\n",
      "            41463,\n",
      "            323,\n",
      "            2834,\n",
      "            6,\n",
      "            83,\n",
      "            14841,\n",
      "            704,\n",
      "            315,\n",
      "            6211,\n",
      "            13,\n",
      "            22591,\n",
      "            15845,\n",
      "            60943,\n",
      "            42428,\n",
      "            11,\n",
      "            449,\n",
      "            37204,\n",
      "            323,\n",
      "            11041,\n",
      "            17728,\n",
      "            369,\n",
      "            5066,\n",
      "            10401,\n",
      "            13,\n",
      "            8797,\n",
      "            10885,\n",
      "            628,\n",
      "            5827,\n",
      "            369,\n",
      "            4228,\n",
      "            389,\n",
      "            14,\n",
      "            1885,\n",
      "            13,\n",
      "            42871,\n",
      "            30278,\n",
      "            449,\n",
      "            10885,\n",
      "            61000,\n",
      "            13,\n",
      "            393,\n",
      "            17438,\n",
      "            18301,\n",
      "            389,\n",
      "            15489,\n",
      "            13,\n",
      "            9636,\n",
      "            2227,\n",
      "            342,\n",
      "            355,\n",
      "            5022,\n",
      "            18885,\n",
      "            31139,\n",
      "            13,\n",
      "            9084,\n",
      "            655,\n",
      "            93090,\n",
      "            12,\n",
      "            15472,\n",
      "            30278,\n",
      "            2567,\n",
      "            6206,\n",
      "            8369,\n",
      "            13,\n",
      "            3861,\n",
      "            18301,\n",
      "            706,\n",
      "            264,\n",
      "            8340,\n",
      "            4868,\n",
      "            18301,\n",
      "            61218,\n",
      "            4871,\n",
      "            13,\n",
      "            73366,\n",
      "            198,\n",
      "            198,\n",
      "            14924,\n",
      "            25,\n",
      "            3234,\n",
      "            279,\n",
      "            3623,\n",
      "            4341,\n",
      "            44842,\n",
      "            35962,\n",
      "            57597,\n",
      "            2638,\n",
      "            617,\n",
      "            3185,\n",
      "            30278,\n",
      "            30,\n",
      "            198,\n",
      "            12978,\n",
      "            1285,\n",
      "            22559,\n",
      "            25,\n",
      "            128009,\n",
      "            128006,\n",
      "            78191,\n",
      "            128007,\n",
      "            198,\n",
      "            198,\n",
      "            11439,\n",
      "            311,\n",
      "            279,\n",
      "            2317,\n",
      "            11,\n",
      "            279,\n",
      "            4320,\n",
      "            374,\n",
      "            25,\n",
      "            198,\n",
      "            198,\n",
      "            9642,\n",
      "            11,\n",
      "            279,\n",
      "            3623,\n",
      "            4341,\n",
      "            44842,\n",
      "            35962,\n",
      "            57597,\n",
      "            2638,\n",
      "            220,\n",
      "            7,\n",
      "            300,\n",
      "            1664,\n",
      "            439,\n",
      "            279,\n",
      "            3623,\n",
      "            4341,\n",
      "            356,\n",
      "            8512,\n",
      "            645,\n",
      "            13934,\n",
      "            275,\n",
      "            35962,\n",
      "            57597,\n",
      "            2638,\n",
      "            8,\n",
      "            617,\n",
      "            6958,\n",
      "            12,\n",
      "            263,\n",
      "            25567,\n",
      "            449,\n",
      "            220,\n",
      "            1,\n",
      "            3002,\n",
      "            30278,\n",
      "            3343\n",
      "          ],\n",
      "          \"total_duration\": 911795232,\n",
      "          \"load_duration\": 14965876,\n",
      "          \"prompt_eval_count\": 542,\n",
      "          \"prompt_eval_duration\": 22798000,\n",
      "          \"eval_count\": 44,\n",
      "          \"eval_duration\": 832155000\n",
      "        },\n",
      "        \"type\": \"Generation\"\n",
      "      }\n",
      "    ]\n",
      "  ],\n",
      "  \"llm_output\": null,\n",
      "  \"run\": null\n",
      "}\n",
      "\u001b[36;1m\u001b[1;3m[chain/end]\u001b[0m \u001b[1m[chain:RetrievalQA > chain:StuffDocumentsChain > chain:LLMChain] [966ms] Exiting Chain run with output:\n",
      "\u001b[0m{\n",
      "  \"text\": \"According to the context, the answer is:\\n\\nYes, the Cozy Comfort Pullover Set (as well as the Cozy Cuddles Knit Pullover Set) have pull-on pants with \\\"side pockets\\\".\"\n",
      "}\n",
      "\u001b[36;1m\u001b[1;3m[chain/end]\u001b[0m \u001b[1m[chain:RetrievalQA > chain:StuffDocumentsChain] [967ms] Exiting Chain run with output:\n",
      "\u001b[0m{\n",
      "  \"output_text\": \"According to the context, the answer is:\\n\\nYes, the Cozy Comfort Pullover Set (as well as the Cozy Cuddles Knit Pullover Set) have pull-on pants with \\\"side pockets\\\".\"\n",
      "}\n",
      "\u001b[36;1m\u001b[1;3m[chain/end]\u001b[0m \u001b[1m[chain:RetrievalQA] [986ms] Exiting Chain run with output:\n",
      "\u001b[0m{\n",
      "  \"result\": \"According to the context, the answer is:\\n\\nYes, the Cozy Comfort Pullover Set (as well as the Cozy Cuddles Knit Pullover Set) have pull-on pants with \\\"side pockets\\\".\"\n",
      "}\n"
     ]
    }
   ],
   "source": [
    "from langchain.globals import set_debug\n",
    "set_debug(True)\n",
    "\n",
    "response = qa.invoke(examples[0][\"query\"])\n",
    "\n",
    "set_debug(False)"
   ]
  },
  {
   "cell_type": "markdown",
   "id": "a56288d9-0f2e-4828-a892-0c605d9e431f",
   "metadata": {},
   "source": [
    "## LLM assisted evaluation\n",
    "\n",
    "The default prompt can be found in the file\n",
    "\n",
    "```sh\n",
    "langchain/evaluation/qa/eval_prompt.py\n",
    "```\n",
    "\n",
    "Here we edited the prompt so that the output is good for llama3."
   ]
  },
  {
   "cell_type": "code",
   "execution_count": 61,
   "id": "c26012c5-aa8e-495a-b7fb-f101726e6101",
   "metadata": {},
   "outputs": [],
   "source": [
    "from langchain.evaluation.qa import QAEvalChain\n",
    "\n",
    "grade_template = \"\"\"You are a teacher grading a quiz.\n",
    "You are given a question, the student's answer, and the true answer, \n",
    "and are asked to score the student answer as either CORRECT or INCORRECT.\n",
    "\n",
    "Example Input Format:\n",
    "-----\n",
    "QUESTION: question here\n",
    "STUDENT ANSWER: student's answer here\n",
    "TRUE ANSWER: true answer here\n",
    "-----\n",
    "\n",
    "Example Output:\n",
    "CORRECT or INCORRECT\n",
    "\n",
    "Grade the student answers based ONLY on their factual accuracy.\n",
    "Ignore differences in punctuation and phrasing between the student answer and true answer.\n",
    "It is OK if the student answer contains more information than the true answer,\n",
    "as long as it does not contain any conflicting statements.\n",
    "\n",
    "Return the final grade. The only options are between CORRECT and INCORRECT.\n",
    "\n",
    "Here are the actual input data:\n",
    "\n",
    "QUESTION: {query}\n",
    "STUDENT ANSWER: {result}\n",
    "TRUE ANSWER: {answer}\n",
    "\"\"\"\n",
    "grade_prompt = PromptTemplate(\n",
    "    input_variables=[\"query\", \"result\", \"answer\"],\n",
    "    template=grade_template\n",
    ")\n",
    "\n",
    "eval_chain = QAEvalChain.from_llm(llm, prompt=grade_prompt)"
   ]
  },
  {
   "cell_type": "code",
   "execution_count": 62,
   "id": "da2b507d-680b-4440-b3e3-68720b29434d",
   "metadata": {},
   "outputs": [
    {
     "data": {
      "text/plain": [
       "[{'results': 'CORRECT'},\n",
       " {'results': 'CORRECT'},\n",
       " {'results': 'CORRECT'},\n",
       " {'results': 'CORRECT'},\n",
       " {'results': 'CORRECT'},\n",
       " {'results': 'CORRECT'},\n",
       " {'results': 'CORRECT'}]"
      ]
     },
     "execution_count": 62,
     "metadata": {},
     "output_type": "execute_result"
    }
   ],
   "source": [
    "predictions = qa.batch(examples)\n",
    "graded_outputs = eval_chain.evaluate(examples, predictions)\n",
    "graded_outputs"
   ]
  },
  {
   "cell_type": "code",
   "execution_count": 63,
   "id": "132ad527-7829-4dd9-b693-2e1cde0fdaf3",
   "metadata": {},
   "outputs": [
    {
     "name": "stdout",
     "output_type": "stream",
     "text": [
      "Example 0:\n",
      "Question:         Do the Cozy Comfort Pullover Set have side pockets?\n",
      "Real Answer:      Yes\n",
      "Predicted Answer: According to the additional features of the Cozy Comfort Pullover Set, it is stated that \"Pull-on pants have a wide elastic waistband and drawstring, side pockets and a modern slim leg.\" Therefore, yes, the Cozy Comfort Pullover Set does have side pockets.\n",
      "Predicted Grade:  CORRECT\n",
      "\n",
      "Example 1:\n",
      "Question:         What collection is the Ultra-Lofty 850 Stretch Down Hooded Jacket from?\n",
      "Real Answer:      The DownTek collection\n",
      "Predicted Answer: The Ultra-Loft 850 Stretch Down Hooded Jacket is from the DownTek collection.\n",
      "Predicted Grade:  CORRECT\n",
      "\n",
      "Example 2:\n",
      "Question:         What type of material is used in the construction of the Women's Campside Oxfords?\n",
      "Real Answer:      Soft canvas material.\n",
      "Predicted Answer: According to the description, the Women's Campside Oxfords are made from \"soft canvas material\" with a comfortable EVA innersole and antimicrobial odor control.\n",
      "Predicted Grade:  CORRECT\n",
      "\n",
      "Example 3:\n",
      "Question:         What percentage of recycled materials are used to make the fabric of the Recycled Waterhog Dog Mat?\n",
      "Real Answer:      94%\n",
      "Predicted Answer: According to the context, the construction of the Recycled Waterhog Dog Mat includes:\n",
      "\n",
      "\"24 oz. polyester fabric made from 94% recycled materials.\"\n",
      "\n",
      "So, the answer is 94%.\n",
      "Predicted Grade:  CORRECT\n",
      "\n",
      "Example 4:\n",
      "Question:         What feature of this toddler's swimsuit provides the highest rated sun protection possible, blocking 98% of the sun's harmful rays?\n",
      "Real Answer:      The UPF 50+ rated fabric.\n",
      "Predicted Answer: Based on the context provided, the answer is that the UPF 50+ rated fabric provides the highest rated sun protection possible, blocking 98% of the sun's harmful rays. This feature is mentioned in all three products: Infant and Toddler Girls' Coastal Chill Swimsuit, Two-Piece; Girls' Beachside Breeze Shirt, Half-Sleeve; and Beach Babe Reversible Swimsuit.\n",
      "Predicted Grade:  CORRECT\n",
      "\n",
      "Example 5:\n",
      "Question:         What percentage of the swimtop's body is made up of recycled nylon?\n",
      "Real Answer:      82%\n",
      "Predicted Answer: Based on the context, I found the following information:\n",
      "\n",
      "For Refresh Swimwear, V-Neck Tankini Contrasts:\n",
      "Body in 82% recycled nylon with 18% Lycra spandex.\n",
      "\n",
      "For ReVamp Swimwear, V-Neck Bikini Top Print:\n",
      "Body in 82% recycled nylon with 18% Lycra spandex.\n",
      "\n",
      "Given this information, I can conclude that the percentage of recycled nylon in the swimtop's body is **82%**.\n",
      "Predicted Grade:  CORRECT\n",
      "\n",
      "Example 6:\n",
      "Question:         What technology does EcoFlex 3L Storm Pants feature to provide enhanced breathability?\n",
      "Real Answer:      TEK O2 technology.\n",
      "Predicted Answer: According to the context, EcoFlex 3L Storm Pants feature TEK O2 technology, which provides enhanced breathability.\n",
      "Predicted Grade:  CORRECT\n",
      "\n"
     ]
    }
   ],
   "source": [
    "for i, eg in enumerate(examples):\n",
    "    print(f\"Example {i}:\")\n",
    "    print(\"Question:         \" + predictions[i]['query'])\n",
    "    print(\"Real Answer:      \" + predictions[i]['answer'])\n",
    "    print(\"Predicted Answer: \" + predictions[i]['result'])\n",
    "    print(\"Predicted Grade:  \" + graded_outputs[i]['results'])\n",
    "    print()"
   ]
  },
  {
   "cell_type": "markdown",
   "id": "04b37f40-7583-431d-b25d-f1f3f11b76fd",
   "metadata": {},
   "source": [
    "# Agents"
   ]
  },
  {
   "cell_type": "code",
   "execution_count": 64,
   "id": "490ef09a-2812-41d3-ba83-579e2c5d3e2f",
   "metadata": {},
   "outputs": [],
   "source": [
    "from langchain_experimental.llms.ollama_functions import OllamaFunctions\n",
    "from langchain.agents import load_tools, create_react_agent, AgentExecutor\n",
    "from langchain_core.pydantic_v1 import BaseModel, Field"
   ]
  },
  {
   "cell_type": "markdown",
   "id": "01b474c3-db7c-4e1e-b147-9b20b8463cac",
   "metadata": {},
   "source": [
    "## General Notes\n",
    "\n",
    "- set temperature to zero to get precise results.\n",
    "\n",
    "## Creating a tool calling LLM\n",
    "\n",
    "### Detail: Ollama model\n",
    "\n",
    "[reference](https://python.langchain.com/v0.2/docs/integrations/chat/ollama_functions/)\n",
    "\n",
    "We have to install `langchain-experimental` to use the ollama model.\n",
    "\n",
    "```sh\n",
    "pip install langchain_experimental\n",
    "```\n",
    "\n",
    "I also changed the default system prompt a bit so  that llama3 is more likely to return a json file.\n",
    "\n",
    "### Code"
   ]
  },
  {
   "cell_type": "code",
   "execution_count": 65,
   "id": "0e97a91d-e11f-4bd5-bd02-38c547616f51",
   "metadata": {},
   "outputs": [
    {
     "name": "stdout",
     "output_type": "stream",
     "text": [
      "content='' id='run-b1873a2a-a6e4-495b-b92d-9737e97605a2-0' tool_calls=[{'name': 'GetWeather', 'args': {'location': 'San Francisco, CA'}, 'id': 'call_4eb652ffba9547b48ab49cc301d50385'}]\n"
     ]
    }
   ],
   "source": [
    "LLM_MODEL = \"llama3\"\n",
    "TOOL_PROMPT = \"\"\"\n",
    "You have access to the following tools:\n",
    "\n",
    "{tools}\n",
    "\n",
    "You must always select one of the above tools and respond with only a \n",
    "JSON object matching the following schema:\n",
    "\n",
    "{{\n",
    "  \"tool\": <name of the selected tool>,\n",
    "  \"tool_input\": <parameters for the selected tool, matching the tool's JSON schema>\n",
    "}}\n",
    "\n",
    "DO NOT RESPOND ANYTHING RATHER THAN THE JSON CONTENT !!!\n",
    "DO NOT RESPOND ANYTHING RATHER THAN THE JSON CONTENT !!!\n",
    "\"\"\"\n",
    "\n",
    "llm = OllamaFunctions(\n",
    "    model=LLM_MODEL,\n",
    "    temperature=0.0,\n",
    "    verbose=True,\n",
    "    tool_system_prompt_template=TOOL_PROMPT\n",
    ")\n",
    "\n",
    "class GetWeather(BaseModel):\n",
    "    \"\"\"Get the current weather in a given location\"\"\"\n",
    "    location: str = Field(\n",
    "        ..., description=\"The city and state, e.g. San Francisco, CA\"\n",
    "    )\n",
    "\n",
    "llm_with_tools = llm.bind_tools([GetWeather])\n",
    "\n",
    "ai_message = llm_with_tools.invoke(\n",
    "    \"what is the weather like in San Francisco\",\n",
    ")\n",
    "print(ai_message)"
   ]
  },
  {
   "cell_type": "markdown",
   "id": "8744ca67-0f34-4d56-8827-307f4f0dad7e",
   "metadata": {},
   "source": [
    "## Creating an Agent\n",
    "\n",
    "### Detail: LangChain version\n",
    "\n",
    "For old langchain version, the agent can be created via the following code.\n",
    "\n",
    "```python\n",
    "\n",
    "from langchain.agents import initialize_agent, AgentType\n",
    "\n",
    "\n",
    "tools = load_tools([\"llm-math\",\"wikipedia\"], llm=llm)\n",
    "agent= initialize_agent(\n",
    "    tools, llm, \n",
    "    agent=AgentType.CHAT_ZERO_SHOT_REACT_DESCRIPTION,\n",
    "    handle_parsing_errors=True,\n",
    "    verbose=True\n",
    ")\n",
    "```\n",
    "\n",
    "Here we use the newer interface for langchain 0.2+."
   ]
  },
  {
   "cell_type": "code",
   "execution_count": 66,
   "id": "bb3d6b18-30eb-4a0d-8748-ea6fe2a8b9d5",
   "metadata": {},
   "outputs": [],
   "source": [
    "LLM_MODEL = \"llama3\"\n",
    "TOOL_PROMPT = \"\"\"\n",
    "You have access to the following tools:\n",
    "\n",
    "{tools}\n",
    "\n",
    "You must always select one of the above tools and respond with only a \n",
    "JSON object matching the following schema:\n",
    "\n",
    "{{\n",
    "  \"tool\": <name of the selected tool>,\n",
    "  \"tool_input\": <parameters for the selected tool, matching the tool's JSON schema>\n",
    "}}\n",
    "\n",
    "DO NOT RESPOND ANYTHING RATHER THAN THE JSON CONTENT !!!\n",
    "DO NOT RESPOND ANYTHING RATHER THAN THE JSON CONTENT !!!\n",
    "\"\"\"\n",
    "\n",
    "llm = OllamaFunctions(\n",
    "    model=LLM_MODEL,\n",
    "    temperature=0.0,\n",
    "    verbose=True,\n",
    "    tool_system_prompt_template=TOOL_PROMPT\n",
    ")\n",
    "\n",
    "react_template = '''\n",
    "Answer the following questions as best you can. You have access to the following tools:\n",
    "\n",
    "{tools}\n",
    "\n",
    "Use the following format:\n",
    "\n",
    "Question: the input question you must answer\n",
    "Thought: you should always think about what to do\n",
    "Action: the action to take, should be one of [{tool_names}]\n",
    "Action Input: the input to the action\n",
    "Observation: the result of the action\n",
    "... (this Thought/Action/Action Input/Observation can repeat N times)\n",
    "Thought: I now know the final answer\n",
    "Final Answer: the final answer to the original input question\n",
    "\n",
    "Follow the follwoing rules strictly no matter what\n",
    "\n",
    "- DO NOT ADD EXTRA DESCRIPTION FOR the action and action input!\n",
    "- DO NOT REPEAT ANY INFORMATION!\n",
    "- DO NOT REPEAT THE QUESTION!\n",
    "- FOLLOW THE FORMAT REQUIREMENT!\n",
    "\n",
    "Begin!\n",
    "\n",
    "Question: {input}\n",
    "Thought:{agent_scratchpad}\n",
    "'''\n",
    "\n",
    "react_prompt = PromptTemplate.from_template(react_template)\n",
    "\n",
    "tools = load_tools([\"wikipedia\", \"wikipedia\"], llm=llm)\n",
    "agent= create_react_agent(llm, tools, prompt=react_prompt)\n",
    "agent_executor = AgentExecutor(agent=agent, tools=tools, verbose=True)"
   ]
  },
  {
   "cell_type": "code",
   "execution_count": 67,
   "id": "b4932140-3703-4e58-868e-2ae360e218f6",
   "metadata": {},
   "outputs": [
    {
     "name": "stdout",
     "output_type": "stream",
     "text": [
      "\n",
      "\n",
      "\u001b[1m> Entering new AgentExecutor chain...\u001b[0m\n",
      "\u001b[32;1m\u001b[1;3mHere's my response:\n",
      "\n",
      "Thought: I need to find information about Joe Biden.\n",
      "Action: wikipedia\n",
      "Action Input: Joe Biden\u001b[0m\u001b[33;1m\u001b[1;3mPage: Joe Biden\n",
      "Summary: Joseph Robinette Biden Jr. (born November 20, 1942) is an American politician who is the 46th and current president of the United States since 2021. A member of the Democratic Party, he previously served as the 47th vice president from 2009 to 2017 under President Barack Obama and represented Delaware in the United States Senate from 1973 to 2009.\n",
      "Born in Scranton, Pennsylvania, Biden moved with his family to Delaware in 1953. He graduated from the University of Delaware before earning his law degree from Syracuse University. He was elected to the New Castle County Council in 1970 and to the U.S. Senate in 1972. As a senator, Biden drafted and led the effort to pass the Violent Crime Control and Law Enforcement Act and the Violence Against Women Act. He also oversaw six U.S. Supreme Court confirmation hearings, including the contentious hearings for Robert Bork and Clarence Thomas. Biden ran unsuccessfully for the Democratic presidential nomination in 1988 and 2008. In 2008, Obama chose Biden as his running mate, and he was a close counselor to Obama during his two terms as vice president. In the 2020 presidential election, Biden chose Kamala Harris as his running mate and defeated incumbent Donald Trump. He is the oldest president in U.S. history, and the first to have a female vice president.\n",
      "As president, Biden signed the American Rescue Plan Act in response to the COVID-19 pandemic and subsequent recession. He signed bipartisan bills on infrastructure and manufacturing. He proposed the Build Back Better Act, which failed in Congress, but aspects of which were incorporated into the Inflation Reduction Act that he signed into law in 2022. Biden appointed Ketanji Brown Jackson to the Supreme Court. He worked with congressional Republicans to resolve the 2023 debt-ceiling crisis by negotiating a deal to raise the debt ceiling. In foreign policy, Biden restored America's membership in the Paris Agreement. He oversaw the complete withdrawal of U.S. troops from Afghanistan that ended the war in Afghanistan, leading to the collapse of the Afghan government and the Taliban seizing control. He responded to the Russian invasion of Ukraine by imposing sanctions on Russia and authorizing civilian and military aid to Ukraine. During the Israel–Hamas war, Biden condemned the actions of Hamas as terrorism, announced military support for Israel and sent limited humanitarian aid to the Gaza Strip. \n",
      "In April 25, 2023, Biden announced his candidacy for the Democratic nomination in the 2024 presidential election, and is now the presumptive nominee. Following what was widely viewed as a poor performance in a June 2024 debate with Trump and numerous age and health concerns, Biden has faced repeated calls to suspend his candidacy, but has insisted that he will remain a candidate.\n",
      "\n",
      "Page: Family of Joe Biden\n",
      "Summary: Joe Biden, the 46th and current president of the United States, has family members who are prominent in law, education, activism and politics. Biden's immediate family became the first family of the United States on his inauguration on January 20, 2021. His immediate family circle was also the second family of the United States from 2009 to 2017, when Biden was vice president. Biden's family is mostly descended from the British Isles, with most of their ancestors coming from Ireland and England, and a smaller number descending from the French.\n",
      "Of Biden's sixteen great-great-grandparents, ten of them were born in Ireland. He is descended from the Blewitts of County Mayo and the Finnegans of County Louth. One of Biden's great-great-great-grandfathers was born in Sussex, England, and emigrated to Maryland in the United States by 1820.\n",
      "\n",
      "Page: Presidency of Joe Biden\n",
      "Summary: Joe Biden's tenure as the 46th president of the United States began with his inauguration on January 20, 2021. Biden, a member of the Democratic Party who previously served as vice president for two terms under President Barack Obama, took offi\u001b[0m\u001b[32;1m\u001b[1;3mThought: I now know the final answer.\n",
      "Final Answer: Joe Biden is an American politician who is the 46th and current president of the United States since 2021.\u001b[0m\n",
      "\n",
      "\u001b[1m> Finished chain.\u001b[0m\n"
     ]
    }
   ],
   "source": [
    "question = \"Who is Joe Biden\"\n",
    "result = agent_executor.invoke(\n",
    "    {\"input\": question}\n",
    ")"
   ]
  },
  {
   "cell_type": "markdown",
   "id": "fc686764-bd84-40d3-b2c7-3c2c7764e89c",
   "metadata": {},
   "source": [
    "## Custom Tool"
   ]
  },
  {
   "cell_type": "code",
   "execution_count": 68,
   "id": "042152f0-c404-4b14-a580-321da8bc1df5",
   "metadata": {},
   "outputs": [],
   "source": [
    "from langchain.agents import tool\n",
    "from datetime import date"
   ]
  },
  {
   "cell_type": "code",
   "execution_count": 69,
   "id": "b091011f-74f6-4132-95f3-ddea9bfbcac5",
   "metadata": {},
   "outputs": [],
   "source": [
    "@tool\n",
    "def timer(text: str) -> str:\n",
    "    \"\"\"Returns todays date, use this for any \\\n",
    "    questions related to knowing todays date. \\\n",
    "    The input should always be an empty string, \\\n",
    "    and this function will always return todays \\\n",
    "    date - any date mathmatics should occur \\\n",
    "    outside this function.\"\"\"\n",
    "    return str(date.today())"
   ]
  },
  {
   "cell_type": "code",
   "execution_count": 70,
   "id": "e37e10d3-6555-468b-ad0f-c1510bb8611f",
   "metadata": {},
   "outputs": [],
   "source": [
    "tools = load_tools([\"wikipedia\"], llm=llm)\n",
    "tools.append(timer)\n",
    "agent= create_react_agent(llm, tools, prompt=react_prompt)\n",
    "agent_executor = AgentExecutor(agent=agent, tools=tools, verbose=True)"
   ]
  },
  {
   "cell_type": "code",
   "execution_count": 72,
   "id": "8cf654e1-6465-4b31-8a8b-384a5a536d2a",
   "metadata": {},
   "outputs": [
    {
     "name": "stdout",
     "output_type": "stream",
     "text": [
      "\n",
      "\n",
      "\u001b[1m> Entering new AgentExecutor chain...\u001b[0m\n",
      "\u001b[32;1m\u001b[1;3mHere's my attempt at answering your question:\n",
      "\n",
      "Thought:\n",
      "Action: timer\n",
      "Action Input:\u001b[0m\u001b[33;1m\u001b[1;3m2024-07-19\u001b[0m\u001b[32;1m\u001b[1;3mHere's the answer:\n",
      "\n",
      "Thought: I now know the final answer\n",
      "Final Answer: 2024-07-19\u001b[0m\n",
      "\n",
      "\u001b[1m> Finished chain.\u001b[0m\n"
     ]
    }
   ],
   "source": [
    "question = \"what is the time now?\"\n",
    "result = agent_executor.invoke(\n",
    "    {\"input\": question}\n",
    ")"
   ]
  }
 ],
 "metadata": {
  "kernelspec": {
   "display_name": "py3.12-langchain",
   "language": "python",
   "name": "langchain-python-312"
  },
  "language_info": {
   "codemirror_mode": {
    "name": "ipython",
    "version": 3
   },
   "file_extension": ".py",
   "mimetype": "text/x-python",
   "name": "python",
   "nbconvert_exporter": "python",
   "pygments_lexer": "ipython3",
   "version": "3.12.3"
  }
 },
 "nbformat": 4,
 "nbformat_minor": 5
}

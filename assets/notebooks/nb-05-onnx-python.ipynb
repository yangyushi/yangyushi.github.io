{
 "cells": [
  {
   "cell_type": "raw",
   "id": "ada23bf0-027e-46ce-99ee-3f6cfe9d5cbd",
   "metadata": {},
   "source": [
    "---\n",
    "title: \"ONNX models with Python\"\n",
    "format:\n",
    "  html:\n",
    "    toc: true\n",
    "    embed-resources: true\n",
    "    html-math-method: katex\n",
    "---"
   ]
  },
  {
   "cell_type": "code",
   "execution_count": 1,
   "id": "944fd2f2-614e-4286-b5b1-06cd9c60e5d3",
   "metadata": {},
   "outputs": [],
   "source": [
    "from IPython.display import Image"
   ]
  },
  {
   "cell_type": "markdown",
   "id": "da70bc3b",
   "metadata": {},
   "source": [
    "<hr>\n",
    "\n",
    "This is the code from [the onnx documentation](https://onnx.ai/onnx/intro/python.html).\n",
    "\n",
    "This notebooks talks about manipulating ONNX models with the Python API.\n",
    "\n",
    "<hr>\n",
    "\n",
    "## Creating Model\n",
    "\n",
    "Linear expression: `Y = A * X + B`"
   ]
  },
  {
   "cell_type": "code",
   "execution_count": 2,
   "id": "2c433734",
   "metadata": {},
   "outputs": [],
   "source": [
    "from onnx import TensorProto\n",
    "from onnx.helper import (\n",
    "    make_model, make_node, make_graph, make_tensor_value_info,\n",
    "    tensor_dtype_to_np_dtype\n",
    ")\n",
    "from onnx.checker import check_model"
   ]
  },
  {
   "cell_type": "markdown",
   "id": "8ada14fd",
   "metadata": {},
   "source": [
    "### Declearing Variables\n",
    "\n",
    "We use the `make_tensor_value_info` to declare variables."
   ]
  },
  {
   "cell_type": "code",
   "execution_count": 3,
   "id": "8955967f",
   "metadata": {},
   "outputs": [],
   "source": [
    "X = make_tensor_value_info(\n",
    "    name=\"X\", elem_type=TensorProto.FLOAT, shape=[None, None]\n",
    ")\n",
    "\n",
    "A = make_tensor_value_info(\n",
    "    name=\"A\", elem_type=TensorProto.FLOAT, shape=[None, None]\n",
    ")\n",
    "\n",
    "B = make_tensor_value_info(\n",
    "    name=\"B\", elem_type=TensorProto.FLOAT, shape=[None, None]\n",
    ")\n",
    "\n",
    "Y = make_tensor_value_info(\n",
    "    name=\"Y\", elem_type=TensorProto.FLOAT, shape=[None]\n",
    ")"
   ]
  },
  {
   "cell_type": "markdown",
   "id": "d72068ce",
   "metadata": {},
   "source": [
    "### Declaring Operators\n",
    "\n",
    "Operats are the \"nodes\" in the computation graph of a neural network.\n",
    "\n",
    "We use the `make_node` function to declare nodes."
   ]
  },
  {
   "cell_type": "code",
   "execution_count": 4,
   "id": "69afb288",
   "metadata": {},
   "outputs": [],
   "source": [
    "node_1 = make_node(\n",
    "    op_type='MatMul', inputs=['X', 'A'], outputs=['XA'],\n",
    ")\n",
    "\n",
    "node_2 = make_node(\n",
    "    op_type='Add', inputs=['XA', 'B'], outputs=['Y'],\n",
    ")"
   ]
  },
  {
   "cell_type": "markdown",
   "id": "73fd30e3",
   "metadata": {},
   "source": [
    "### Declaring the Graph\n",
    "\n",
    "We can construct the computational graph with the `make_graph` function."
   ]
  },
  {
   "cell_type": "code",
   "execution_count": 5,
   "id": "a6b529f5",
   "metadata": {},
   "outputs": [],
   "source": [
    "graph = make_graph(\n",
    "    nodes=[node_1, node_2],\n",
    "    name=\"linear regression\",\n",
    "    inputs=[X, A, B],\n",
    "    outputs=[Y],\n",
    ")"
   ]
  },
  {
   "cell_type": "markdown",
   "id": "5749430d",
   "metadata": {},
   "source": [
    "### Creating a model\n",
    "\n",
    "We can convert the computation Graph to ONNX model via `make_model` function.\n",
    "\n",
    "We can use `check_model` to ensure our result being legitimate."
   ]
  },
  {
   "cell_type": "code",
   "execution_count": 6,
   "id": "725ba343",
   "metadata": {},
   "outputs": [],
   "source": [
    "model = make_model(graph)\n",
    "\n",
    "check_model(model)"
   ]
  },
  {
   "cell_type": "markdown",
   "id": "18483c8a",
   "metadata": {},
   "source": [
    "### Save the Model\n",
    "\n",
    "We **serialise** the model with the `SerializePartialToString` method."
   ]
  },
  {
   "cell_type": "code",
   "execution_count": 7,
   "id": "4c5b7597",
   "metadata": {},
   "outputs": [],
   "source": [
    "with open(\"model_lr.onnx\", \"wb\") as f:\n",
    "    f.write(model.SerializePartialToString())"
   ]
  },
  {
   "cell_type": "markdown",
   "id": "cd4fb2fe",
   "metadata": {},
   "source": [
    "We can visualise the model with tools such as Netron, yielding an image like this,"
   ]
  },
  {
   "cell_type": "code",
   "execution_count": 8,
   "id": "82801902-dc4b-423f-8bad-4a1f0035b715",
   "metadata": {},
   "outputs": [
    {
     "data": {
      "image/png": "[encoded data removed]",
      "text/plain": [
       "<IPython.core.display.Image object>"
      ]
     },
     "execution_count": 8,
     "metadata": {
      "image/png": {
       "width": 150
      }
     },
     "output_type": "execute_result"
    }
   ],
   "source": [
    "Image(\"model_lr.png\", width=150)"
   ]
  },
  {
   "cell_type": "markdown",
   "id": "93a42d17",
   "metadata": {},
   "source": [
    "## Parsing a Model\n",
    "\n",
    "### Loading the model\n",
    "\n",
    "We can use the `load` function to load a model as the ONNX representation, `onnx.onnx_ml_pb2.ModelProto`."
   ]
  },
  {
   "cell_type": "code",
   "execution_count": 9,
   "id": "8bea6ce0",
   "metadata": {},
   "outputs": [
    {
     "data": {
      "text/plain": [
       "onnx.onnx_ml_pb2.ModelProto"
      ]
     },
     "execution_count": 9,
     "metadata": {},
     "output_type": "execute_result"
    }
   ],
   "source": [
    "from onnx import load\n",
    "\n",
    "model = load(\"./model_lr.onnx\")\n",
    "type(model)"
   ]
  },
  {
   "cell_type": "markdown",
   "id": "cb01c423",
   "metadata": {},
   "source": [
    "### Inspecting the IO details\n",
    "\n",
    "The following code shows the way to print inputs and outputs of a model.\n",
    "\n",
    "Notice the helpful fucntions\n",
    "\n",
    "- `onnx.helper.tensor_dtype_to_np_dtype`.\n",
    "- our own `get_tensor_shape`"
   ]
  },
  {
   "cell_type": "code",
   "execution_count": 10,
   "id": "067762fc",
   "metadata": {},
   "outputs": [
    {
     "name": "stdout",
     "output_type": "stream",
     "text": [
      "Input  tensor: X (0, 0) float32\n",
      "Input  tensor: A (0, 0) float32\n",
      "Input  tensor: B (0, 0) float32\n",
      "Output tensor: Y (0,) float32\n"
     ]
    }
   ],
   "source": [
    "def get_tensor_shape(tensor):\n",
    "    shape = tensor.type.tensor_type.shape\n",
    "    return tuple(getattr(d, 'dim_value', 0) for d in shape.dim)\n",
    "\n",
    "for obj in model.graph.input:\n",
    "    name  = obj.name\n",
    "    dtype = tensor_dtype_to_np_dtype(\n",
    "        obj.type.tensor_type.elem_type\n",
    "    )\n",
    "    shape = get_tensor_shape(obj)\n",
    "    print(\"Input  tensor:\", name, shape, dtype)\n",
    "    \n",
    "for obj in model.graph.output:\n",
    "    name  = obj.name\n",
    "    dtype = tensor_dtype_to_np_dtype(\n",
    "        obj.type.tensor_type.elem_type\n",
    "    )\n",
    "    shape = get_tensor_shape(obj)\n",
    "    print(\"Output tensor:\", name, shape, dtype)"
   ]
  },
  {
   "cell_type": "markdown",
   "id": "72dac8ef",
   "metadata": {},
   "source": [
    "### Inspecting Operators\n",
    "\n",
    "The following code shows how to extract information of computational nodes.\n",
    "\n",
    "By doing so, we clearly see the flow of computation in the Graph."
   ]
  },
  {
   "cell_type": "code",
   "execution_count": 11,
   "id": "eebe9eb1",
   "metadata": {},
   "outputs": [
    {
     "name": "stdout",
     "output_type": "stream",
     "text": [
      "Node : ['X', 'A'] -> MatMul -> ['XA']\n",
      "Node : ['XA', 'B'] -> Add -> ['Y']\n"
     ]
    }
   ],
   "source": [
    "for node in model.graph.node:\n",
    "    name = node.name\n",
    "    op = node.op_type\n",
    "    tensor_in = node.input\n",
    "    tensor_out = node.output\n",
    "    print(f\"Node {name}:\", tensor_in, \"->\", op, \"->\", tensor_out)"
   ]
  }
 ],
 "metadata": {
  "kernelspec": {
   "display_name": "unstructured",
   "language": "python",
   "name": "py312-unstructured"
  },
  "language_info": {
   "codemirror_mode": {
    "name": "ipython",
    "version": 3
   },
   "file_extension": ".py",
   "mimetype": "text/x-python",
   "name": "python",
   "nbconvert_exporter": "python",
   "pygments_lexer": "ipython3",
   "version": "3.12.3"
  }
 },
 "nbformat": 4,
 "nbformat_minor": 5
}
